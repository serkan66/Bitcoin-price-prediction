{
 "cells": [
  {
   "cell_type": "markdown",
   "id": "c8dbed3f",
   "metadata": {},
   "source": [
    "# In dit project wil ik Bitcoin onderzoeken en ook de prijs van Bitcoin voorspellen met behulp van een Machine Learning algoritme.\n"
   ]
  },
  {
   "cell_type": "code",
   "execution_count": null,
   "id": "1c4385a2",
   "metadata": {},
   "outputs": [],
   "source": [
    "# In dit project wil ik Bitcoin onderzoeken en ook de prijs van Bitcoin voorspellen met behulp van een Machine Learning algoritme.\n",
    "\n",
    "# Hier importeer ik de benodigde Bibliotheek\n",
    "import os\n",
    "import pandas as pd\n",
    "import numpy as np\n",
    "import math\n",
    "import datetime as dt\n",
    "import matplotlib.pyplot as plt\n",
    "\n",
    "# Bibioliotheek voor de evaluatie \n",
    "from sklearn.metrics import mean_squared_error, mean_absolute_error, explained_variance_score, r2_score \n",
    "from sklearn.metrics import mean_poisson_deviance, mean_gamma_deviance, accuracy_score\n",
    "from sklearn.preprocessing import MinMaxScaler\n",
    "\n",
    "# Bibioliotheek voor het bouwen van de model \n",
    "import tensorflow as tf\n",
    "from tensorflow.keras.models import Sequential\n",
    "from tensorflow.keras.layers import Dense, Dropout\n",
    "from tensorflow.keras.layers import LSTM\n",
    "\n",
    "# Bibioliotheek voor het plotten \n",
    "import matplotlib.pyplot as plt\n",
    "from itertools import cycle\n",
    "import plotly.graph_objects as go\n",
    "import plotly.express as px\n",
    "from plotly.subplots import make_subplots\n",
    "from plotly.offline import download_plotlyjs, init_notebook_mode, plot, iplot"
   ]
  },
  {
   "cell_type": "code",
   "execution_count": null,
   "id": "88db464b",
   "metadata": {},
   "outputs": [],
   "source": [
    "# Bitcoin dataset van Yahoo. 2014 sept t/m 2022 nov.\n",
    "maindf=pd.read_csv(\"bitcoin(update).csv\")"
   ]
  },
  {
   "cell_type": "code",
   "execution_count": null,
   "id": "19830ad7",
   "metadata": {},
   "outputs": [],
   "source": [
    "# Hier print ik totaal aantal dagen (2974) en de kolommen (7)\n",
    "print('Totaal aantal dagen in de dataset: ',maindf.shape[0])\n",
    "print('Totaal aantal kolommen in de dataset: ',maindf.shape[1])"
   ]
  },
  {
   "cell_type": "code",
   "execution_count": null,
   "id": "a2f49b77",
   "metadata": {},
   "outputs": [],
   "source": [
    "maindf.shape"
   ]
  },
  {
   "cell_type": "markdown",
   "id": "c64090fb",
   "metadata": {},
   "source": [
    "##  Description\n",
    "| Name       | Description                                                                                      |\n",
    "| ------------------ | ------------------------------------------------------------------------------------------------ |\n",
    "|  |\n",
    "| Date            |  De datum van de dag                                                                                   |\n",
    "| Open  | Openingskoers van bitcoin                                                       |\n",
    "| High  | Wat de hoogste waarde is van de desbetreffende dag                                                         |\n",
    "| Low    |  Wat de laagste waarde is van de desbetreffende dag                                                     |\n",
    "| Close    | De sloetkoers van bitcoin                                                      |\n",
    "| Adj Close, Volume    | Deze laat ik weg. Hier doe ik niks mee                                                   |"
   ]
  },
  {
   "cell_type": "markdown",
   "id": "9fdef41c",
   "metadata": {},
   "source": [
    "De eerste 5 en rows van de dataset"
   ]
  },
  {
   "cell_type": "code",
   "execution_count": null,
   "id": "7ebe7fd1",
   "metadata": {},
   "outputs": [],
   "source": [
    "maindf.head()"
   ]
  },
  {
   "cell_type": "markdown",
   "id": "4cf0f7a8",
   "metadata": {},
   "source": [
    "De laatste 5 en rows van de dataset"
   ]
  },
  {
   "cell_type": "code",
   "execution_count": null,
   "id": "c2befeff",
   "metadata": {},
   "outputs": [],
   "source": [
    "maindf.tail()"
   ]
  },
  {
   "cell_type": "markdown",
   "id": "a0fcf8d4",
   "metadata": {},
   "source": [
    "Algemene info. Wat zijn de aanwezige kolommen, null type en data type"
   ]
  },
  {
   "cell_type": "code",
   "execution_count": null,
   "id": "e6478344",
   "metadata": {},
   "outputs": [],
   "source": [
    "maindf.info()"
   ]
  },
  {
   "cell_type": "markdown",
   "id": "70c41e1c",
   "metadata": {},
   "source": [
    "#### De beschrijving voor elke kolom:\n",
    "    - count - Het aantal niet-lege waarden.\n",
    "    - mean - De gemiddelde waarde.\n",
    "    - std - De standaardafwijking.\n",
    "    - min - De minimumwaarde.\n",
    "    - 25% - Het 25%-percentiel*.\n",
    "    - 50% - Het 50% percentiel*.\n",
    "    - 75% - het 75%-percentiel*.\n",
    "    - max - de maximumwaarde."
   ]
  },
  {
   "cell_type": "code",
   "execution_count": null,
   "id": "f1c6d891",
   "metadata": {},
   "outputs": [],
   "source": [
    "maindf.describe()"
   ]
  },
  {
   "cell_type": "markdown",
   "id": "80f05049",
   "metadata": {},
   "source": [
    "# 1. Checken voor Null values"
   ]
  },
  {
   "cell_type": "code",
   "execution_count": null,
   "id": "2a6f4e7e",
   "metadata": {},
   "outputs": [],
   "source": [
    "# Deze 2 stappen zijn een van de belangrijkste dingen om mee te beginnen. Ik Check of de data nulwaarden heeft of niet. \n",
    "print('Null Values:',maindf.isnull().values.sum())"
   ]
  },
  {
   "cell_type": "code",
   "execution_count": null,
   "id": "220de1a7",
   "metadata": {},
   "outputs": [],
   "source": [
    "print('NA values:',maindf.isnull().values.any())"
   ]
  },
  {
   "cell_type": "code",
   "execution_count": null,
   "id": "7eb03ac0",
   "metadata": {},
   "outputs": [],
   "source": [
    "print(f'Number of rows with missing values: {maindf.isnull().any(axis=1).mean()}')"
   ]
  },
  {
   "cell_type": "markdown",
   "id": "5629f2fe",
   "metadata": {},
   "source": [
    "#### De data heeft geen null values. "
   ]
  },
  {
   "cell_type": "markdown",
   "id": "185a6691",
   "metadata": {},
   "source": [
    "# 2. Exploratory Data Analysis (EDA) "
   ]
  },
  {
   "cell_type": "markdown",
   "id": "d0596ef4",
   "metadata": {},
   "source": [
    "Ik print de start en de einddatum uit"
   ]
  },
  {
   "cell_type": "code",
   "execution_count": null,
   "id": "746a1171",
   "metadata": {},
   "outputs": [],
   "source": [
    "start=maindf.iloc[0][0]\n",
    "eind=maindf.iloc[-1][0]\n",
    "\n",
    "print('begindatum', start)\n",
    "print('einddatum', eind)"
   ]
  },
  {
   "cell_type": "code",
   "execution_count": null,
   "id": "4402ef60",
   "metadata": {},
   "outputs": [],
   "source": [
    "maindf.info()"
   ]
  },
  {
   "cell_type": "markdown",
   "id": "5c135475",
   "metadata": {},
   "source": [
    "Ik converteer ik de datum van de dataframe naar de datum tijd. Daarna maak ik de kolommen voor: maand, dag en jaar."
   ]
  },
  {
   "cell_type": "code",
   "execution_count": null,
   "id": "938c25de",
   "metadata": {},
   "outputs": [],
   "source": [
    "maindf['Date'] = pd.to_datetime(maindf['Date'], format='%Y-%m-%d')\n",
    "maindf['Dag'] = maindf['Date'].dt.day\n",
    "maindf['Maand'] = maindf['Date'].dt.month\n",
    "maindf['Jaar'] = maindf['Date'].dt.year"
   ]
  },
  {
   "cell_type": "markdown",
   "id": "13c1e045",
   "metadata": {},
   "source": [
    "# 2.1 Analyse jaar: 2014"
   ]
  },
  {
   "cell_type": "markdown",
   "id": "3575ba55",
   "metadata": {},
   "source": [
    "Ik maak een variabele aan met de naam: jaar_2014 die alleen de gegevens van jaar_2014 zal bevatten. De kolommen 'Adj Close' en 'Volume' laat ik weg"
   ]
  },
  {
   "cell_type": "code",
   "execution_count": null,
   "id": "014faa2d",
   "metadata": {},
   "outputs": [],
   "source": [
    "jaar_2014 = maindf.loc[(maindf['Date'] >= '2014') \n",
    "                     & (maindf['Date'] < '2015')]\n",
    "\n",
    "jaar_2014.drop(jaar_2014[['Adj Close','Volume']],axis=1)"
   ]
  },
  {
   "cell_type": "markdown",
   "id": "5572a3ee",
   "metadata": {},
   "source": [
    "De gemiddelde waarde per maand weergeven. Jan t/m aug is er geen data. Dit komt omdat de begindatum 17-09 is."
   ]
  },
  {
   "cell_type": "code",
   "execution_count": null,
   "id": "b746cdc2",
   "metadata": {
    "scrolled": true
   },
   "outputs": [],
   "source": [
    "gemiddelde= jaar_2014.groupby(jaar_2014['Date'].dt.strftime('%B'))[['Open','Close']].mean()\n",
    "maanden = ['January', 'February', 'March', 'April', 'May', 'June', 'July', 'August', \n",
    "             'September', 'October', 'November', 'December']\n",
    "gemiddelde = gemiddelde.reindex(maanden, axis=0)\n",
    "gemiddelde"
   ]
  },
  {
   "cell_type": "markdown",
   "id": "92459061",
   "metadata": {},
   "source": [
    "Een barchart die laat zien wat de opening prijs en de gesloten prijs is van het gemiddelde van elke maand. Geel: open, Groen: gesloten"
   ]
  },
  {
   "cell_type": "code",
   "execution_count": null,
   "id": "1268a94c",
   "metadata": {},
   "outputs": [],
   "source": [
    "fig = go.Figure()\n",
    "\n",
    "fig.add_trace(go.Bar(\n",
    "    x=gemiddelde.index,\n",
    "    y=gemiddelde['Open'],\n",
    "    name='Bitcoin open prijs',\n",
    "    marker_color='Yellow'\n",
    "))\n",
    "fig.add_trace(go.Bar(\n",
    "    x=gemiddelde.index,\n",
    "    y=gemiddelde['Close'],\n",
    "    name='Bitcoin gelosten prijs',\n",
    "    marker_color='Green'\n",
    "))\n",
    "\n",
    "fig.update_layout(barmode='group', xaxis_tickangle=-45, \n",
    "                  title='Maandelijkse vergelijking tussen open en gesloten prijzen')\n",
    "fig.show()"
   ]
  },
  {
   "cell_type": "markdown",
   "id": "40324c84",
   "metadata": {},
   "source": [
    "Een barchart die laat zien wat de hoge prijs en de lage prijs is van het gemiddelde van elke maand"
   ]
  },
  {
   "cell_type": "code",
   "execution_count": null,
   "id": "7ca1f707",
   "metadata": {},
   "outputs": [],
   "source": [
    "fig = go.Figure()\n",
    "\n",
    "jaar_2014.groupby(jaar_2014['Date'].dt.strftime('%B'))['Low'].min()\n",
    "gemiddelde_high = jaar_2014.groupby(maindf['Date'].dt.strftime('%B'))['High'].max()\n",
    "gemiddelde_high = gemiddelde_high.reindex(maanden, axis=0)\n",
    "\n",
    "gemiddelde_low = jaar_2014.groupby(jaar_2014['Date'].dt.strftime('%B'))['Low'].min()\n",
    "gemiddelde_low = gemiddelde_low.reindex(maanden, axis=0)\n",
    "\n",
    "fig = go.Figure()\n",
    "fig.add_trace(go.Bar(\n",
    "    x=gemiddelde_high.index,\n",
    "    y=gemiddelde_high,\n",
    "    name='Bitcoin hoog prijs',\n",
    "    marker_color='Blue'\n",
    "))\n",
    "fig.add_trace(go.Bar(\n",
    "    x=gemiddelde_low.index,\n",
    "    y=gemiddelde_low,\n",
    "    name='Bitcoin laag prijs',\n",
    "    marker_color='Red'\n",
    "))\n",
    "\n",
    "fig.update_layout(barmode='group', \n",
    "                  title='Maandelijkse vergelijking tussen Hoge en Lage prijzen:')\n",
    "fig.show()"
   ]
  },
  {
   "cell_type": "markdown",
   "id": "fe7d6b82",
   "metadata": {},
   "source": [
    "Een boxplot die de maandelijkse gesloten prijs laat zien van het jaar 2014"
   ]
  },
  {
   "cell_type": "code",
   "execution_count": null,
   "id": "0fc4463b",
   "metadata": {},
   "outputs": [],
   "source": [
    "fig = px.box(jaar_2014,\n",
    "             x=\"Maand\",\n",
    "             y=\"Close\",\n",
    "             labels = {\"Close\" : \"Gesloten prijs\"}, \n",
    "             title=\"Maandelijkse vergelijking gesloten prijs\")\n",
    "fig.update_xaxes(showgrid=False)\n",
    "fig.update_yaxes(showgrid=False)\n",
    "fig.show()"
   ]
  },
  {
   "cell_type": "markdown",
   "id": "d5eeb1e5",
   "metadata": {},
   "source": [
    "Een boxplot die de gesloten prijs voor elke dag van elke maand laat zien van het jaar 2014.\n",
    "Dus van alle 30 of 31 dagen de gesloten prijs"
   ]
  },
  {
   "cell_type": "code",
   "execution_count": null,
   "id": "993f3b37",
   "metadata": {},
   "outputs": [],
   "source": [
    "fig = px.box(jaar_2014,\n",
    "             x=\"Dag\",\n",
    "             y=\"Close\",\n",
    "             labels = {\"Close\" : \"Gesloten prijs\"}, \n",
    "             title=\"Gesloten prijs voor elke dag van 12 maanden\")\n",
    "fig.update_xaxes(showgrid=False)\n",
    "fig.update_yaxes(showgrid=False)\n",
    "fig.show()"
   ]
  },
  {
   "cell_type": "markdown",
   "id": "07bd010a",
   "metadata": {},
   "source": [
    "Een strip plot die de gesloten prijs voor elke dag van van elke maand laat zien van het jaar 2014."
   ]
  },
  {
   "cell_type": "code",
   "execution_count": null,
   "id": "0b53b64a",
   "metadata": {},
   "outputs": [],
   "source": [
    "fig = px.strip(jaar_2014,\n",
    "               x=\"Dag\",\n",
    "               y=\"Close\",\n",
    "               labels = {\"Close\" : \"Gesloten prijs\"},\n",
    "               title = \"Gesloten prijs voor elke dag van 12 maanden\")\n",
    "fig.update_xaxes(showgrid=False)\n",
    "fig.update_yaxes(showgrid=False)\n",
    "fig.show()\n"
   ]
  },
  {
   "cell_type": "markdown",
   "id": "736405aa",
   "metadata": {},
   "source": [
    "Een strip plot die de gesloten prijs voor elke dag van van elke maand laat zien van het jaar 2014. Als extra functie kan je maanden apart bekijken en vergelijken."
   ]
  },
  {
   "cell_type": "code",
   "execution_count": null,
   "id": "14af7033",
   "metadata": {},
   "outputs": [],
   "source": [
    "fig = px.strip(jaar_2014,\n",
    "               x=\"Dag\",\n",
    "               y=\"Close\",\n",
    "               labels = {\"Close\" : \"Gesloten prijs\"},\n",
    "               color=\"Maand\",\n",
    "               title = \"Gesloten prijs voor elke dag van 12 maanden\"\n",
    "              )\n",
    "fig.update_xaxes(showgrid=False)\n",
    "fig.update_yaxes(showgrid=False)\n",
    "fig.show()"
   ]
  },
  {
   "cell_type": "markdown",
   "id": "393859b6",
   "metadata": {},
   "source": [
    "Een line chart die een samenvatting van open, gelosten, hoog en laag laat zien wat de algemene trend van het jaar 2014 was"
   ]
  },
  {
   "cell_type": "code",
   "execution_count": null,
   "id": "06d0b6f3",
   "metadata": {},
   "outputs": [],
   "source": [
    "names = cycle(['Bitcoin Open Prijs','Bitcoin Gesloten Prijs','Bitcoin Hoog Prijs','Bitcoin Laag Prijs'])\n",
    "\n",
    "fig = px.line(jaar_2014, x=jaar_2014.Date, y=[jaar_2014['Open'], jaar_2014['Close'], \n",
    "                                          jaar_2014['High'], jaar_2014['Low']],\n",
    "             labels={'Date': 'Datum','value':'Waarde Bitcoin'})\n",
    "fig.update_layout(title_text='Grafiek Bitcoin analyse', font_size=15, font_color='black',legend_title_text='Bitcoin Parameters:')\n",
    "fig.for_each_trace(lambda t:  t.update(name = next(names)))\n",
    "fig.update_xaxes(showgrid=False)\n",
    "fig.update_yaxes(showgrid=False)\n"
   ]
  },
  {
   "cell_type": "markdown",
   "id": "67edbd33",
   "metadata": {},
   "source": [
    "# 2.2 Analyse jaar: 2015 "
   ]
  },
  {
   "cell_type": "markdown",
   "id": "7b9b7d6b",
   "metadata": {},
   "source": [
    "Ik maak een variabele aan met de naam: jaar_2015 die alleen de gegevens van jaar_2015 zal bevatten. De kolommen 'Adj Close' en 'Volume' laat ik weg"
   ]
  },
  {
   "cell_type": "code",
   "execution_count": null,
   "id": "3e9af58e",
   "metadata": {},
   "outputs": [],
   "source": [
    "jaar_2015 = maindf.loc[(maindf['Date'] >= '2015')\n",
    "                     & (maindf['Date'] < '2016')]\n",
    "\n",
    "jaar_2015.drop(jaar_2015[['Adj Close','Volume']],axis=1)"
   ]
  },
  {
   "cell_type": "markdown",
   "id": "c007d181",
   "metadata": {},
   "source": [
    "De gemiddelde waarde per maand weergeven."
   ]
  },
  {
   "cell_type": "code",
   "execution_count": null,
   "id": "6bff411e",
   "metadata": {},
   "outputs": [],
   "source": [
    "gemiddelde= jaar_2015.groupby(jaar_2015['Date'].dt.strftime('%B'))[['Open','Close']].mean()\n",
    "maanden = ['January', 'February', 'March', 'April', 'May', 'June', 'July', 'August', \n",
    "             'September', 'October', 'November', 'December']\n",
    "gemiddelde = gemiddelde.reindex(maanden, axis=0)\n",
    "gemiddelde"
   ]
  },
  {
   "cell_type": "markdown",
   "id": "7d4a42e0",
   "metadata": {},
   "source": [
    "Een barchart die laat zien wat de opening prijs en de gesloten prijs is van het gemiddelde van elke maand. Geel: open, Groen: gesloten"
   ]
  },
  {
   "cell_type": "code",
   "execution_count": null,
   "id": "8ae6ec20",
   "metadata": {},
   "outputs": [],
   "source": [
    "fig = go.Figure()\n",
    "\n",
    "fig.add_trace(go.Bar(\n",
    "    x=gemiddelde.index,\n",
    "    y=gemiddelde['Open'],\n",
    "    name='Bitcoin open prijs',\n",
    "    marker_color='Yellow'\n",
    "))\n",
    "fig.add_trace(go.Bar(\n",
    "    x=gemiddelde.index,\n",
    "    y=gemiddelde['Close'],\n",
    "    name='Bitcoin gesloten prijs',\n",
    "    marker_color='Green'\n",
    "))\n",
    "\n",
    "fig.update_layout(barmode='group', xaxis_tickangle=-45, \n",
    "                  title='Maandelijkse vergelijking tussen open en gesloten prijzen')\n",
    "fig.show()"
   ]
  },
  {
   "cell_type": "markdown",
   "id": "94172c93",
   "metadata": {},
   "source": [
    "Een barchart die laat zien wat de hoge prijs en de lage prijs is van het gemiddelde van elke maand"
   ]
  },
  {
   "cell_type": "code",
   "execution_count": null,
   "id": "12ecbc81",
   "metadata": {},
   "outputs": [],
   "source": [
    "jaar_2015.groupby(jaar_2015['Date'].dt.strftime('%B'))['Low'].min()\n",
    "gemiddelde_high = jaar_2015.groupby(maindf['Date'].dt.strftime('%B'))['High'].max()\n",
    "gemiddelde_high = gemiddelde_high.reindex(maanden, axis=0)\n",
    "\n",
    "gemiddelde_low = jaar_2015.groupby(jaar_2015['Date'].dt.strftime('%B'))['Low'].min()\n",
    "gemiddelde_low = gemiddelde_low.reindex(maanden, axis=0)\n",
    "\n",
    "fig = go.Figure()\n",
    "fig.add_trace(go.Bar(\n",
    "    x=gemiddelde_high.index,\n",
    "    y=gemiddelde_high,\n",
    "    name='Hoog Bitcoin prijs',\n",
    "    marker_color='Blue'\n",
    "))\n",
    "fig.add_trace(go.Bar(\n",
    "    x=gemiddelde_low.index,\n",
    "    y=gemiddelde_low,\n",
    "    name='Laag Bitcoin prijs',\n",
    "    marker_color='Red'\n",
    "))\n",
    "\n",
    "fig.update_layout(barmode='group', \n",
    "                  title='Maandelijkse vergelijking tussen Hoge en Lage prijzen')\n",
    "fig.show()"
   ]
  },
  {
   "cell_type": "markdown",
   "id": "8d267b8f",
   "metadata": {},
   "source": [
    "Een boxplot die de maandelijkse gesloten prijs laat zien van het jaar 2015"
   ]
  },
  {
   "cell_type": "code",
   "execution_count": null,
   "id": "2a2dd113",
   "metadata": {},
   "outputs": [],
   "source": [
    "fig = px.box(jaar_2015,\n",
    "             x=\"Maand\",\n",
    "             y=\"Close\",\n",
    "             labels = {\"Close\" : \"Gesloten prijs\"}, # change label of y-axis\n",
    "             title=\"Maandelijkse vergelijking gesloten prijs\")\n",
    "fig.update_xaxes(showgrid=False)\n",
    "fig.update_yaxes(showgrid=False)\n",
    "fig.show()"
   ]
  },
  {
   "cell_type": "markdown",
   "id": "c29f2eeb",
   "metadata": {},
   "source": [
    "Een boxplot die de gesloten prijs voor elke dag van elke maand laat zien van het jaar 2015.\n",
    "\n",
    "Dus van alle 30 of 31 dagen de gesloten prijs."
   ]
  },
  {
   "cell_type": "code",
   "execution_count": null,
   "id": "0ca5364a",
   "metadata": {},
   "outputs": [],
   "source": [
    "fig = px.box(jaar_2015,\n",
    "             x=\"Dag\",\n",
    "             y=\"Close\",\n",
    "             labels = {\"Close\" : \"Gesloten prijs\"}, # change label of y-axis\n",
    "             title=\"Gesloten prijs voor elke dag van 12 maanden\")\n",
    "fig.update_xaxes(showgrid=False)\n",
    "fig.update_yaxes(showgrid=False)\n",
    "fig.show()"
   ]
  },
  {
   "cell_type": "markdown",
   "id": "91f97027",
   "metadata": {},
   "source": [
    "Een strip plot die de gesloten prijs voor elke dag van van elke maand laat zien van het jaar 2015."
   ]
  },
  {
   "cell_type": "code",
   "execution_count": null,
   "id": "d03d94e4",
   "metadata": {},
   "outputs": [],
   "source": [
    "fig = px.strip(jaar_2015,\n",
    "               x=\"Dag\",\n",
    "               y=\"Close\",\n",
    "               labels = {\"Close\" : \"Gesloten prijs\"},\n",
    "               title = \"Gesloten prijs voor elke dag van 12 maanden\")\n",
    "fig.update_xaxes(showgrid=False)\n",
    "fig.update_yaxes(showgrid=False)\n",
    "fig.show()"
   ]
  },
  {
   "cell_type": "markdown",
   "id": "fb9d203c",
   "metadata": {},
   "source": [
    "Een strip plot die de gesloten prijs voor elke dag van van elke maand laat zien van het jaar 2015. Als extra functie kan je maanden apart bekijken en vergelijken."
   ]
  },
  {
   "cell_type": "code",
   "execution_count": null,
   "id": "b3fbb605",
   "metadata": {},
   "outputs": [],
   "source": [
    "fig = px.strip(jaar_2015,\n",
    "               x=\"Dag\",\n",
    "               y=\"Close\",\n",
    "               labels = {\"Close\" : \"Gesloten prijs\"},\n",
    "               color=\"Maand\",\n",
    "               title = \"Strip plot\"\n",
    "              )\n",
    "fig.update_xaxes(showgrid=False)\n",
    "fig.update_yaxes(showgrid=False)\n",
    "fig.show()"
   ]
  },
  {
   "cell_type": "markdown",
   "id": "f34211f8",
   "metadata": {},
   "source": [
    "Een line chart die een samenvatting van open, gelosten, hoog en laag laat zien wat de algemene trend van het jaar 2015 was"
   ]
  },
  {
   "cell_type": "code",
   "execution_count": null,
   "id": "03efd2ec",
   "metadata": {},
   "outputs": [],
   "source": [
    "names = cycle(['Bitcoin open prijs','Bitcoin gesloten prijs','Bitcoin hoog prijs','Bitcoin laag prijs'])\n",
    "\n",
    "fig = px.line(jaar_2015, x=jaar_2015.Date, y=[jaar_2015['Open'], jaar_2015['Close'], \n",
    "                                          jaar_2015['High'], jaar_2015['Low']],\n",
    "             labels={'Date': 'Datum','value':'Waarde Bitcoin'})\n",
    "fig.update_layout(title_text='Grafiek Bitcoin analyse', font_size=15, font_color='black',legend_title_text='Aandeel Bitcoin:')\n",
    "fig.for_each_trace(lambda t:  t.update(name = next(names)))\n",
    "fig.update_xaxes(showgrid=False)\n",
    "fig.update_yaxes(showgrid=False)\n",
    "\n",
    "fig.show()"
   ]
  },
  {
   "cell_type": "markdown",
   "id": "02ca00cd",
   "metadata": {},
   "source": [
    "# 2.3 Analyse jaar: 2016 "
   ]
  },
  {
   "cell_type": "markdown",
   "id": "6be41a56",
   "metadata": {},
   "source": [
    "Ik maak een variabele aan met de naam: jaar_2016 die alleen de gegevens van jaar_2016 zal bevatten. De kolommen 'Adj Close' en 'Volume' laat ik weg"
   ]
  },
  {
   "cell_type": "code",
   "execution_count": null,
   "id": "6db27300",
   "metadata": {},
   "outputs": [],
   "source": [
    "jaar_2016 = maindf.loc[(maindf['Date'] >= '2016')\n",
    "                     & (maindf['Date'] < '2017')]\n",
    "\n",
    "jaar_2016.drop(jaar_2016[['Adj Close','Volume']],axis=1)"
   ]
  },
  {
   "cell_type": "markdown",
   "id": "0d606d7e",
   "metadata": {},
   "source": [
    "De gemiddelde waarde per maand weergeven."
   ]
  },
  {
   "cell_type": "code",
   "execution_count": null,
   "id": "c10f5229",
   "metadata": {},
   "outputs": [],
   "source": [
    "gemiddelde= jaar_2016.groupby(jaar_2016['Date'].dt.strftime('%B'))[['Open','Close']].mean()\n",
    "maanden = ['January', 'February', 'March', 'April', 'May', 'June', 'July', 'August', \n",
    "             'September', 'October', 'November', 'December']\n",
    "dagen = ['Monday', 'Tuesday', 'Wednesday', 'Thursday', 'Friday']\n",
    "gemiddelde = gemiddelde.reindex(maanden, axis=0)\n",
    "gemiddelde"
   ]
  },
  {
   "cell_type": "markdown",
   "id": "7be6f616",
   "metadata": {},
   "source": [
    "Een barchart die laat zien wat de opening prijs en de gesloten prijs is van het gemiddelde van elke maand. Geel: open, Groen: gesloten"
   ]
  },
  {
   "cell_type": "code",
   "execution_count": null,
   "id": "2f385bb5",
   "metadata": {},
   "outputs": [],
   "source": [
    "fig = go.Figure()\n",
    "\n",
    "fig.add_trace(go.Bar(\n",
    "    x=gemiddelde.index,\n",
    "    y=gemiddelde['Open'],\n",
    "    name='Bitcoin open prijs',\n",
    "    marker_color='Yellow'\n",
    "))\n",
    "fig.add_trace(go.Bar(\n",
    "    x=gemiddelde.index,\n",
    "    y=gemiddelde['Close'],\n",
    "    name='Bitcoin gesloten prijs',\n",
    "    marker_color='Green'\n",
    "))\n",
    "\n",
    "fig.update_layout(barmode='group', xaxis_tickangle=-45, \n",
    "                  title='Maandelijkse vergelijking tussen open en gesloten prijzen')\n",
    "fig.show()"
   ]
  },
  {
   "cell_type": "markdown",
   "id": "76cab21a",
   "metadata": {},
   "source": [
    "Een barchart die laat zien wat de hoge prijs en de lage prijs is van het gemiddelde van elke maand"
   ]
  },
  {
   "cell_type": "code",
   "execution_count": null,
   "id": "9e56be15",
   "metadata": {},
   "outputs": [],
   "source": [
    "jaar_2016.groupby(jaar_2016['Date'].dt.strftime('%B'))['Low'].min()\n",
    "gemiddelde_high = jaar_2016.groupby(maindf['Date'].dt.strftime('%B'))['High'].max()\n",
    "gemiddelde_high = gemiddelde_high.reindex(maanden, axis=0)\n",
    "\n",
    "gemiddelde_low = jaar_2016.groupby(jaar_2016['Date'].dt.strftime('%B'))['Low'].min()\n",
    "gemiddelde_low = gemiddelde_low.reindex(maanden, axis=0)\n",
    "\n",
    "fig = go.Figure()\n",
    "fig.add_trace(go.Bar(\n",
    "    x=gemiddelde_high.index,\n",
    "    y=gemiddelde_high,\n",
    "    name='Bitcoin hoog prijs',\n",
    "    marker_color='Blue'\n",
    "))\n",
    "fig.add_trace(go.Bar(\n",
    "    x=gemiddelde_low.index,\n",
    "    y=gemiddelde_low,\n",
    "    name='Bitcoin laag prijs',\n",
    "    marker_color='Red'\n",
    "))\n",
    "\n",
    "fig.update_layout(barmode='group', \n",
    "                  title='Maandelijkse vergelijking tussen Hoge en Lage prijzen')\n",
    "fig.show()"
   ]
  },
  {
   "cell_type": "markdown",
   "id": "54c1467d",
   "metadata": {},
   "source": [
    "Een boxplot die de maandelijkse gesloten prijs laat zien van het jaar 2016."
   ]
  },
  {
   "cell_type": "code",
   "execution_count": null,
   "id": "db4de0a9",
   "metadata": {},
   "outputs": [],
   "source": [
    "fig = px.box(jaar_2016,\n",
    "             x=\"Maand\",\n",
    "             y=\"Close\",\n",
    "             labels = {\"Close\" : \"Gesloten prijs\"}, # change label of y-axis\n",
    "             title=\"Maandelijkse vergelijking gesloten prijs\")\n",
    "fig.update_xaxes(showgrid=False)\n",
    "fig.update_yaxes(showgrid=False)\n",
    "fig.show()"
   ]
  },
  {
   "cell_type": "markdown",
   "id": "092eb84f",
   "metadata": {},
   "source": [
    "Een boxplot die de gesloten prijs voor elke dag van elke maand laat zien van het jaar 2016.\n",
    "Dus van alle 30 of 31 dagen de gesloten prijs"
   ]
  },
  {
   "cell_type": "code",
   "execution_count": null,
   "id": "1a3071fa",
   "metadata": {},
   "outputs": [],
   "source": [
    "fig = px.box(jaar_2016,\n",
    "             x=\"Dag\",\n",
    "             y=\"Close\",\n",
    "             labels = {\"Close\" : \"Gesloten prijs\"}, # change label of y-axis\n",
    "             title=\"Gesloten prijs voor elke dag van 12 maanden\")\n",
    "fig.update_xaxes(showgrid=False)\n",
    "fig.update_yaxes(showgrid=False)\n",
    "fig.show()"
   ]
  },
  {
   "cell_type": "markdown",
   "id": "6fd195c0",
   "metadata": {},
   "source": [
    "Een strip plot die de gesloten prijs voor elke dag van van elke maand laat zien van het jaar 2016."
   ]
  },
  {
   "cell_type": "code",
   "execution_count": null,
   "id": "57a9bfb1",
   "metadata": {},
   "outputs": [],
   "source": [
    "fig = px.strip(jaar_2016,\n",
    "               x=\"Dag\",\n",
    "               y=\"Close\",\n",
    "               labels = {\"Close\" : \"Gesloten prijs\"},\n",
    "               title = \"Gesloten prijs voor elke dag van 12 maanden\")\n",
    "fig.update_xaxes(showgrid=False)\n",
    "fig.update_yaxes(showgrid=False)\n",
    "fig.show()"
   ]
  },
  {
   "cell_type": "markdown",
   "id": "100d18d1",
   "metadata": {},
   "source": [
    "Een strip plot die de gesloten prijs voor elke dag van van elke maand laat zien van het jaar 2016. Als extra functie kan je maanden apart bekijken en vergelijken."
   ]
  },
  {
   "cell_type": "code",
   "execution_count": null,
   "id": "3b4258df",
   "metadata": {},
   "outputs": [],
   "source": [
    "fig = px.strip(jaar_2016,\n",
    "               x=\"Dag\",\n",
    "               y=\"Close\",\n",
    "               labels = {\"Close\" : \"Gesloten prijs\"},\n",
    "               color=\"Maand\",\n",
    "               title = \"Strip plot\"\n",
    "              )\n",
    "fig.update_xaxes(showgrid=False)\n",
    "fig.update_yaxes(showgrid=False)\n",
    "fig.show()"
   ]
  },
  {
   "cell_type": "markdown",
   "id": "6395af92",
   "metadata": {},
   "source": [
    "Een line chart die een samenvatting van open, gelosten, hoog en laag laat zien wat de algemene trend van het jaar 2016 was"
   ]
  },
  {
   "cell_type": "code",
   "execution_count": null,
   "id": "c04f55b8",
   "metadata": {},
   "outputs": [],
   "source": [
    "names = cycle(['Bitcoin open prijs','Bitcoin gesloten prijs','Bitcoin hoog prijs','Bitcoin laag prijs'])\n",
    "\n",
    "fig = px.line(jaar_2016, x=jaar_2016.Date, y=[jaar_2016['Open'], jaar_2016['Close'], \n",
    "                                          jaar_2016['High'], jaar_2016['Low']],\n",
    "             labels={'Date': 'Datum','value':'Bitcoin aandeel'})\n",
    "fig.update_layout(title_text='Grafiek Bitcoin analyse', font_size=15, font_color='black',legend_title_text='Bitcoin Parameters:')\n",
    "fig.for_each_trace(lambda t:  t.update(name = next(names)))\n",
    "fig.update_xaxes(showgrid=False)\n",
    "fig.update_yaxes(showgrid=False)\n",
    "\n",
    "fig.show()"
   ]
  },
  {
   "cell_type": "markdown",
   "id": "da4b7760",
   "metadata": {},
   "source": [
    "# 2.4 Analyse jaar: 2017 "
   ]
  },
  {
   "cell_type": "markdown",
   "id": "35083de5",
   "metadata": {},
   "source": [
    "Ik maak een variabele aan met de naam: jaar_2017 die alleen de gegevens van jaar_2017 zal bevatten. De kolommen 'Adj Close' en 'Volume' laat ik weg"
   ]
  },
  {
   "cell_type": "code",
   "execution_count": null,
   "id": "c7f0915e",
   "metadata": {},
   "outputs": [],
   "source": [
    "jaar_2017 = maindf.loc[(maindf['Date'] >= '2017')\n",
    "                     & (maindf['Date'] < '2018')]\n",
    "\n",
    "jaar_2017.drop(jaar_2017[['Adj Close','Volume']],axis=1)"
   ]
  },
  {
   "cell_type": "markdown",
   "id": "1fbad5ff",
   "metadata": {},
   "source": [
    "De gemiddelde waarde per maand weergeven. "
   ]
  },
  {
   "cell_type": "code",
   "execution_count": null,
   "id": "a1b79726",
   "metadata": {},
   "outputs": [],
   "source": [
    "gemiddelde= jaar_2017.groupby(jaar_2017['Date'].dt.strftime('%B'))[['Open','Close']].mean()\n",
    "maanden = ['January', 'February', 'March', 'April', 'May', 'June', 'July', 'August', \n",
    "             'September', 'October', 'November', 'December']\n",
    "gemiddelde = gemiddelde.reindex(maanden, axis=0)\n",
    "gemiddelde"
   ]
  },
  {
   "cell_type": "markdown",
   "id": "c0ccf822",
   "metadata": {},
   "source": [
    "Een barchart die laat zien wat de opening prijs en de gesloten prijs is van het gemiddelde van elke maand. Geel: open, Groen: gesloten"
   ]
  },
  {
   "cell_type": "code",
   "execution_count": null,
   "id": "1fba31bc",
   "metadata": {},
   "outputs": [],
   "source": [
    "fig = go.Figure()\n",
    "\n",
    "fig.add_trace(go.Bar(\n",
    "    x=gemiddelde.index,\n",
    "    y=gemiddelde['Open'],\n",
    "    name='Bitcoin open prijs',\n",
    "    marker_color='Yellow'\n",
    "))\n",
    "fig.add_trace(go.Bar(\n",
    "    x=gemiddelde.index,\n",
    "    y=gemiddelde['Close'],\n",
    "    name='Bitcoin gesloten prijs',\n",
    "    marker_color='Green'\n",
    "))\n",
    "\n",
    "fig.update_layout(barmode='group', xaxis_tickangle=-45, \n",
    "                  title='Maandelijkse vergelijking tussen open en gesloten prijzen')\n",
    "fig.show()"
   ]
  },
  {
   "cell_type": "markdown",
   "id": "877698fb",
   "metadata": {},
   "source": [
    "Een barchart die laat zien wat de hoge prijs en de lage prijs is van het gemiddelde van elke maand"
   ]
  },
  {
   "cell_type": "code",
   "execution_count": null,
   "id": "8ab16555",
   "metadata": {},
   "outputs": [],
   "source": [
    "jaar_2017.groupby(jaar_2017['Date'].dt.strftime('%B'))['Low'].min()\n",
    "gemiddelde_high = jaar_2017.groupby(maindf['Date'].dt.strftime('%B'))['High'].max()\n",
    "gemiddelde_high = gemiddelde_high.reindex(maanden, axis=0)\n",
    "\n",
    "gemiddelde_low = jaar_2017.groupby(jaar_2017['Date'].dt.strftime('%B'))['Low'].min()\n",
    "gemiddelde_low = gemiddelde_low.reindex(maanden, axis=0)\n",
    "\n",
    "fig = go.Figure()\n",
    "fig.add_trace(go.Bar(\n",
    "    x=gemiddelde_high.index,\n",
    "    y=gemiddelde_high,\n",
    "    name='Bitcoin hoog prijs',\n",
    "    marker_color='Blue'\n",
    "))\n",
    "fig.add_trace(go.Bar(\n",
    "    x=gemiddelde_low.index,\n",
    "    y=gemiddelde_low,\n",
    "    name='Bitcoin laag prijs',\n",
    "    marker_color='Red'\n",
    "))\n",
    "\n",
    "fig.update_layout(barmode='group', \n",
    "                  title='Maandelijkse vergelijking tussen Hoge en Lage prijzen')\n",
    "fig.show()"
   ]
  },
  {
   "cell_type": "markdown",
   "id": "b5c83446",
   "metadata": {},
   "source": [
    "Een boxplot die de maandelijkse gesloten prijs laat zien van het jaar 2017"
   ]
  },
  {
   "cell_type": "code",
   "execution_count": null,
   "id": "d655cbbf",
   "metadata": {},
   "outputs": [],
   "source": [
    "fig = px.box(jaar_2017,\n",
    "             x=\"Maand\",\n",
    "             y=\"Close\",\n",
    "             labels = {\"Close\" : \"Gesloten prijs\"}, # change label of y-axis\n",
    "             title=\"Maandelijkse vergelijking gesloten prijs\")\n",
    "fig.update_xaxes(showgrid=False)\n",
    "fig.update_yaxes(showgrid=False)\n",
    "fig.show()"
   ]
  },
  {
   "cell_type": "markdown",
   "id": "d59a15e3",
   "metadata": {},
   "source": [
    "Een boxplot die de gesloten prijs voor elke dag van elke maand laat zien van het jaar 2017.\n",
    "Dus van alle 30 of 31 dagen de gesloten prijs"
   ]
  },
  {
   "cell_type": "code",
   "execution_count": null,
   "id": "70a1fdaf",
   "metadata": {},
   "outputs": [],
   "source": [
    "fig = px.box(jaar_2017,\n",
    "             x=\"Dag\",\n",
    "             y=\"Close\",\n",
    "             labels = {\"Close\" : \"Gesloten prijs\"}, # change label of y-axis\n",
    "             title=\"Gesloten prijs voor elke dag van 12 maanden\")\n",
    "fig.update_xaxes(showgrid=False)\n",
    "fig.update_yaxes(showgrid=False)\n",
    "fig.show()"
   ]
  },
  {
   "cell_type": "markdown",
   "id": "53099156",
   "metadata": {},
   "source": [
    "Een strip plot die de gesloten prijs voor elke dag van van elke maand laat zien van het jaar 2017."
   ]
  },
  {
   "cell_type": "code",
   "execution_count": null,
   "id": "9a1dde28",
   "metadata": {},
   "outputs": [],
   "source": [
    "fig = px.strip(jaar_2017,\n",
    "               x=\"Dag\",\n",
    "               y=\"Close\",\n",
    "               labels = {\"Close\" : \"Gesloten prijs\"},\n",
    "               title = \"Gesloten prijs voor elke dag van 12 maanden\")\n",
    "fig.update_xaxes(showgrid=False)\n",
    "fig.update_yaxes(showgrid=False)\n",
    "fig.show()"
   ]
  },
  {
   "cell_type": "markdown",
   "id": "465e6bb0",
   "metadata": {},
   "source": [
    "Een strip plot die de gesloten prijs voor elke dag van van elke maand laat zien van het jaar 2017. Als extra functie kan je maanden apart bekijken en vergelijken."
   ]
  },
  {
   "cell_type": "code",
   "execution_count": null,
   "id": "f6d7e68f",
   "metadata": {},
   "outputs": [],
   "source": [
    "fig = px.strip(jaar_2017,\n",
    "               x=\"Dag\",\n",
    "               y=\"Close\",\n",
    "               labels = {\"Close\" : \"Gesloten prijs\"},\n",
    "               color=\"Maand\",\n",
    "               title = \"Strip plot\"\n",
    "              )\n",
    "fig.update_xaxes(showgrid=False)\n",
    "fig.update_yaxes(showgrid=False)\n",
    "fig.show()"
   ]
  },
  {
   "cell_type": "markdown",
   "id": "d1145cc8",
   "metadata": {},
   "source": [
    "Een line chart die een samenvatting van open, gelosten, hoog en laag laat zien wat de algemene trend van het jaar 2017 was"
   ]
  },
  {
   "cell_type": "code",
   "execution_count": null,
   "id": "61c4ce07",
   "metadata": {
    "scrolled": true
   },
   "outputs": [],
   "source": [
    "names = cycle(['Bitcoin open prijs','Bitcoin gesloten prijs','Bitcoin hoog prijs','Bitcoin laag prijs'])\n",
    "\n",
    "fig = px.line(jaar_2017, x=jaar_2017.Date, y=[jaar_2017['Open'], jaar_2017['Close'], \n",
    "                                          jaar_2017['High'], jaar_2017['Low']],\n",
    "             labels={'Date': 'Datum','value':'Waarde Bitcoin'})\n",
    "fig.update_layout(title_text='Grafiek Bitcoin analyse', font_size=15, font_color='black',legend_title_text='Parameters Bitcoin:')\n",
    "fig.for_each_trace(lambda t:  t.update(name = next(names)))\n",
    "fig.update_xaxes(showgrid=False)\n",
    "fig.update_yaxes(showgrid=False)\n",
    "\n",
    "fig.show()"
   ]
  },
  {
   "cell_type": "markdown",
   "id": "6e6b0950",
   "metadata": {},
   "source": [
    "#  2.5 Analyse jaar: 2018"
   ]
  },
  {
   "cell_type": "markdown",
   "id": "3aa0a39a",
   "metadata": {},
   "source": [
    "Ik maak een variabele aan met de naam: jaar_2018 die alleen de gegevens van jaar_2018 zal bevatten. De kolommen 'Adj Close' en 'Volume' laat ik weg"
   ]
  },
  {
   "cell_type": "code",
   "execution_count": null,
   "id": "30e4ea77",
   "metadata": {},
   "outputs": [],
   "source": [
    "jaar_2018 = maindf.loc[(maindf['Date'] >= '2018')\n",
    "                     & (maindf['Date'] < '2019')]\n",
    "\n",
    "jaar_2018.drop(jaar_2018[['Adj Close','Volume']],axis=1)"
   ]
  },
  {
   "cell_type": "markdown",
   "id": "8e53f21d",
   "metadata": {},
   "source": [
    "De gemiddelde waarde per maand weergeven"
   ]
  },
  {
   "cell_type": "code",
   "execution_count": null,
   "id": "d2280983",
   "metadata": {},
   "outputs": [],
   "source": [
    "gemiddelde= jaar_2018.groupby(jaar_2018['Date'].dt.strftime('%B'))[['Open','Close']].mean()\n",
    "maanden = ['January', 'February', 'March', 'April', 'May', 'June', 'July', 'August', \n",
    "             'September', 'October', 'November', 'December']\n",
    "gemiddelde = gemiddelde.reindex(maanden, axis=0)\n",
    "gemiddelde"
   ]
  },
  {
   "cell_type": "markdown",
   "id": "00df751d",
   "metadata": {},
   "source": [
    "Een barchart die laat zien wat de opening prijs en de gesloten prijs is van het gemiddelde van elke maand. Geel: open, Groen: gesloten"
   ]
  },
  {
   "cell_type": "code",
   "execution_count": null,
   "id": "92361749",
   "metadata": {},
   "outputs": [],
   "source": [
    "fig = go.Figure()\n",
    "\n",
    "fig.add_trace(go.Bar(\n",
    "    x=gemiddelde.index,\n",
    "    y=gemiddelde['Open'],\n",
    "    name='Bitcoin open prijs',\n",
    "    marker_color='Yellow'\n",
    "))\n",
    "fig.add_trace(go.Bar(\n",
    "    x=gemiddelde.index,\n",
    "    y=gemiddelde['Close'],\n",
    "    name='Bitcoin gesloten prijs',\n",
    "    marker_color='Green'\n",
    "))\n",
    "\n",
    "fig.update_layout(barmode='group', xaxis_tickangle=-45, \n",
    "                  title='Maandelijkse vergelijking tussen open en gesloten prijzen')\n",
    "fig.show()"
   ]
  },
  {
   "cell_type": "markdown",
   "id": "50d61d45",
   "metadata": {},
   "source": [
    "Een barchart die laat zien wat de hoge prijs en de lage prijs is van het gemiddelde van elke maand"
   ]
  },
  {
   "cell_type": "code",
   "execution_count": null,
   "id": "a0f2a8e3",
   "metadata": {},
   "outputs": [],
   "source": [
    "jaar_2018.groupby(jaar_2018['Date'].dt.strftime('%B'))['Low'].min()\n",
    "gemiddelde_high = jaar_2018.groupby(maindf['Date'].dt.strftime('%B'))['High'].max()\n",
    "gemiddelde_high = gemiddelde_high.reindex(maanden, axis=0)\n",
    "\n",
    "gemiddelde_low = jaar_2018.groupby(jaar_2018['Date'].dt.strftime('%B'))['Low'].min()\n",
    "gemiddelde_low = gemiddelde_low.reindex(maanden, axis=0)\n",
    "\n",
    "fig = go.Figure()\n",
    "fig.add_trace(go.Bar(\n",
    "    x=gemiddelde_high.index,\n",
    "    y=gemiddelde_high,\n",
    "    name='Bitcoin hoog prijs',\n",
    "    marker_color='Blue'\n",
    "))\n",
    "fig.add_trace(go.Bar(\n",
    "    x=gemiddelde_low.index,\n",
    "    y=gemiddelde_low,\n",
    "    name='Bitcoin laag prijs',\n",
    "    marker_color='Red'\n",
    "))\n",
    "\n",
    "fig.update_layout(barmode='group', \n",
    "                  title='Maandelijkse vergelijking tussen Hoge en Lage prijzen')\n",
    "fig.show()"
   ]
  },
  {
   "cell_type": "markdown",
   "id": "73a70fbe",
   "metadata": {},
   "source": [
    "Een boxplot die de maandelijkse gesloten prijs laat zien van het jaar 2018"
   ]
  },
  {
   "cell_type": "code",
   "execution_count": null,
   "id": "e650516d",
   "metadata": {},
   "outputs": [],
   "source": [
    "fig = px.box(jaar_2018,\n",
    "             x=\"Maand\",\n",
    "             y=\"Close\",\n",
    "             labels = {\"Close\" : \"Gesloten prijs\"}, # change label of y-axis\n",
    "             title=\"Maandelijkse vergelijking gesloten prijs\")\n",
    "fig.update_xaxes(showgrid=False)\n",
    "fig.update_yaxes(showgrid=False)\n",
    "fig.show()"
   ]
  },
  {
   "cell_type": "markdown",
   "id": "b66dbf48",
   "metadata": {},
   "source": [
    "Een boxplot die de gesloten prijs voor elke dag van elke maand laat zien van het jaar 2018.\n",
    "Dus van alle 30 of 31 dagen de gesloten prijs"
   ]
  },
  {
   "cell_type": "code",
   "execution_count": null,
   "id": "ee102967",
   "metadata": {},
   "outputs": [],
   "source": [
    "fig = px.box(jaar_2018,\n",
    "             x=\"Dag\",\n",
    "             y=\"Close\",\n",
    "             labels = {\"Close\" : \"Gesloten prijs\"}, # change label of y-axis\n",
    "             title=\"Gesloten prijs voor elke dag van 12 maanden\")\n",
    "fig.update_xaxes(showgrid=False)\n",
    "fig.update_yaxes(showgrid=False)\n",
    "fig.show()"
   ]
  },
  {
   "cell_type": "markdown",
   "id": "c88b3eee",
   "metadata": {},
   "source": [
    "Een strip plot die de gesloten prijs voor elke dag van van elke maand laat zien van het jaar 2018."
   ]
  },
  {
   "cell_type": "code",
   "execution_count": null,
   "id": "fdf06196",
   "metadata": {},
   "outputs": [],
   "source": [
    "fig = px.strip(jaar_2018,\n",
    "               x=\"Dag\",\n",
    "               y=\"Close\",\n",
    "               labels = {\"Close\" : \"Gesloten prijs\"},\n",
    "               title = \"Gesloten prijs voor elke dag van 12 maanden\")\n",
    "fig.update_xaxes(showgrid=False)\n",
    "fig.update_yaxes(showgrid=False)\n",
    "fig.show()"
   ]
  },
  {
   "cell_type": "markdown",
   "id": "076f0c75",
   "metadata": {},
   "source": [
    "Een strip plot die de gesloten prijs voor elke dag van van elke maand laat zien van het jaar 2018. Als extra functie kan je maanden apart bekijken en vergelijken."
   ]
  },
  {
   "cell_type": "code",
   "execution_count": null,
   "id": "ff27a4dd",
   "metadata": {},
   "outputs": [],
   "source": [
    "fig = px.strip(jaar_2018,\n",
    "               x=\"Dag\",\n",
    "               y=\"Close\",\n",
    "               labels = {\"Close\" : \"Gesloten prijs\"},\n",
    "               color=\"Maand\",\n",
    "               title = \"Gesloten prijs voor elke dag van 12 maanden\"\n",
    "              )\n",
    "fig.update_xaxes(showgrid=False)\n",
    "fig.update_yaxes(showgrid=False)\n",
    "fig.show()"
   ]
  },
  {
   "cell_type": "markdown",
   "id": "b7963d7b",
   "metadata": {},
   "source": [
    "Een line chart die een samenvatting van open, gelosten, hoog en laag laat zien wat de algemene trend van het jaar 2018 was"
   ]
  },
  {
   "cell_type": "code",
   "execution_count": null,
   "id": "59a59eb9",
   "metadata": {},
   "outputs": [],
   "source": [
    "names = cycle(['Bitcoin open prijs','Bitcoin gesloten prijs','Bitcoin hoog prijs','Bitcoin laag prijs'])\n",
    "\n",
    "fig = px.line(jaar_2018, x=jaar_2018.Date, y=[jaar_2018['Open'], jaar_2018['Close'], \n",
    "                                          jaar_2018['High'], jaar_2018['Low']],\n",
    "             labels={'Date': 'Datum','value':'Waarde Bitcoin'})\n",
    "fig.update_layout(title_text='Grafiek Bitcoin analyse', font_size=15, font_color='black',legend_title_text='Bitcoin Parameters:')\n",
    "fig.for_each_trace(lambda t:  t.update(name = next(names)))\n",
    "fig.update_xaxes(showgrid=False)\n",
    "fig.update_yaxes(showgrid=False)\n",
    "\n",
    "fig.show()"
   ]
  },
  {
   "cell_type": "markdown",
   "id": "84f9f932",
   "metadata": {},
   "source": [
    "#  2.6 Analyse jaar: 2019"
   ]
  },
  {
   "cell_type": "markdown",
   "id": "d2e61207",
   "metadata": {},
   "source": [
    "Ik maak een variabele aan met de naam: jaar_2019 die alleen de gegevens van jaar_2019 zal bevatten. De kolommen 'Adj Close' en 'Volume' laat ik weg"
   ]
  },
  {
   "cell_type": "code",
   "execution_count": null,
   "id": "2c92ed74",
   "metadata": {},
   "outputs": [],
   "source": [
    "jaar_2019 = maindf.loc[(maindf['Date'] >= '2019')\n",
    "                     & (maindf['Date'] < '2020')]\n",
    "\n",
    "jaar_2019.drop(jaar_2019[['Adj Close','Volume']],axis=1)"
   ]
  },
  {
   "cell_type": "markdown",
   "id": "71d9dd01",
   "metadata": {},
   "source": [
    "De gemiddelde waarde per maand weergeven"
   ]
  },
  {
   "cell_type": "code",
   "execution_count": null,
   "id": "b754886b",
   "metadata": {},
   "outputs": [],
   "source": [
    "gemiddelde= jaar_2019.groupby(jaar_2019['Date'].dt.strftime('%B'))[['Open','Close']].mean()\n",
    "maanden = ['January', 'February', 'March', 'April', 'May', 'June', 'July', 'August', \n",
    "             'September', 'October', 'November', 'December']\n",
    "gemiddelde = gemiddelde.reindex(maanden, axis=0)\n",
    "gemiddelde"
   ]
  },
  {
   "cell_type": "markdown",
   "id": "6b4c842a",
   "metadata": {},
   "source": [
    "Een barchart die laat zien wat de opening prijs en de gesloten prijs is van het gemiddelde van elke maand. Geel: open, Groen: gesloten"
   ]
  },
  {
   "cell_type": "code",
   "execution_count": null,
   "id": "d039e829",
   "metadata": {},
   "outputs": [],
   "source": [
    "fig = go.Figure()\n",
    "\n",
    "fig.add_trace(go.Bar(\n",
    "    x=gemiddelde.index,\n",
    "    y=gemiddelde['Open'],\n",
    "    name='Bitcoin open prijs',\n",
    "    marker_color='Yellow'\n",
    "))\n",
    "fig.add_trace(go.Bar(\n",
    "    x=gemiddelde.index,\n",
    "    y=gemiddelde['Close'],\n",
    "    name='Bitcoin gesloten prijs',\n",
    "    marker_color='Green'\n",
    "))\n",
    "\n",
    "fig.update_layout(barmode='group', xaxis_tickangle=-45, \n",
    "                  title='Maandelijkse vergelijking tussen open en gesloten prijzen')\n",
    "fig.show()"
   ]
  },
  {
   "cell_type": "markdown",
   "id": "61435cb8",
   "metadata": {},
   "source": [
    "Een barchart die laat zien wat de hoge prijs en de lage prijs is van het gemiddelde van elke maand"
   ]
  },
  {
   "cell_type": "code",
   "execution_count": null,
   "id": "19aeb3f8",
   "metadata": {},
   "outputs": [],
   "source": [
    "jaar_2019.groupby(jaar_2019['Date'].dt.strftime('%B'))['Low'].min()\n",
    "gemiddelde_high = jaar_2019.groupby(maindf['Date'].dt.strftime('%B'))['High'].max()\n",
    "gemiddelde_high = gemiddelde_high.reindex(maanden, axis=0)\n",
    "\n",
    "gemiddelde_low = jaar_2019.groupby(jaar_2019['Date'].dt.strftime('%B'))['Low'].min()\n",
    "gemiddelde_low = gemiddelde_low.reindex(maanden, axis=0)\n",
    "\n",
    "fig = go.Figure()\n",
    "fig.add_trace(go.Bar(\n",
    "    x=gemiddelde_high.index,\n",
    "    y=gemiddelde_high,\n",
    "    name='Bitcoin hoog prijs',\n",
    "    marker_color='Blue'\n",
    "))\n",
    "fig.add_trace(go.Bar(\n",
    "    x=gemiddelde_low.index,\n",
    "    y=gemiddelde_low,\n",
    "    name='Bitcoin laag prijs',\n",
    "    marker_color='Red'\n",
    "))\n",
    "\n",
    "fig.update_layout(barmode='group', \n",
    "                  title='Maandelijkse vergelijking tussen Hoge en Lage prijzen')\n",
    "fig.show()"
   ]
  },
  {
   "cell_type": "markdown",
   "id": "3fc7c7de",
   "metadata": {},
   "source": [
    "Een boxplot die de maandelijkse gesloten prijs laat zien van het jaar 2019."
   ]
  },
  {
   "cell_type": "code",
   "execution_count": null,
   "id": "a0102fc0",
   "metadata": {},
   "outputs": [],
   "source": [
    "fig = px.box(jaar_2019,\n",
    "             x=\"Maand\",\n",
    "             y=\"Close\",\n",
    "             labels = {\"Close\" : \"Gesloten prijs\"}, # change label of y-axis\n",
    "             title=\"Maandelijkse vergelijking gesloten prijs\")\n",
    "fig.update_xaxes(showgrid=False)\n",
    "fig.update_yaxes(showgrid=False)\n",
    "fig.show()"
   ]
  },
  {
   "cell_type": "markdown",
   "id": "85849d26",
   "metadata": {},
   "source": [
    "Een boxplot die de gesloten prijs voor elke dag van elke maand laat zien van het jaar 2019.\n",
    "Dus van alle 30 of 31 dagen de gesloten prijs."
   ]
  },
  {
   "cell_type": "code",
   "execution_count": null,
   "id": "462e2ef4",
   "metadata": {},
   "outputs": [],
   "source": [
    "fig = px.box(jaar_2019,\n",
    "             x=\"Dag\",\n",
    "             y=\"Close\",\n",
    "             labels = {\"Close\" : \"Gesloten prijs\"}, # change label of y-axis\n",
    "             title=\"Gesloten prijs voor elke dag van 12 maanden\")\n",
    "fig.update_xaxes(showgrid=False)\n",
    "fig.update_yaxes(showgrid=False)\n",
    "fig.show()"
   ]
  },
  {
   "cell_type": "markdown",
   "id": "a20112b9",
   "metadata": {},
   "source": [
    "Een strip plot die de gesloten prijs voor elke dag van van elke maand laat zien van het jaar 2019."
   ]
  },
  {
   "cell_type": "code",
   "execution_count": null,
   "id": "fd718a00",
   "metadata": {},
   "outputs": [],
   "source": [
    "fig = px.strip(jaar_2019,\n",
    "               x=\"Dag\",\n",
    "               y=\"Close\",\n",
    "               labels = {\"Close\" : \"Gesloten prijs\"},\n",
    "               title = \"Gesloten prijs voor elke dag van 12 maanden\")\n",
    "fig.update_xaxes(showgrid=False)\n",
    "fig.update_yaxes(showgrid=False)\n",
    "fig.show()"
   ]
  },
  {
   "cell_type": "markdown",
   "id": "8bcbc858",
   "metadata": {},
   "source": [
    "Een strip plot die de gesloten prijs voor elke dag van van elke maand laat zien van het jaar 2019. Als extra functie kan je maanden apart bekijken en vergelijken."
   ]
  },
  {
   "cell_type": "code",
   "execution_count": null,
   "id": "6422b7dd",
   "metadata": {},
   "outputs": [],
   "source": [
    "fig = px.strip(jaar_2019,\n",
    "               x=\"Dag\",\n",
    "               y=\"Close\",\n",
    "               labels = {\"Close\" : \"Gesloten prijs\"},\n",
    "               color=\"Maand\",\n",
    "               title = \"Gesloten prijs voor elke dag van 12 maanden\"\n",
    "              )\n",
    "fig.update_xaxes(showgrid=False)\n",
    "fig.update_yaxes(showgrid=False)\n",
    "fig.show()"
   ]
  },
  {
   "cell_type": "markdown",
   "id": "8be38bf5",
   "metadata": {},
   "source": [
    "Een line chart die een samenvatting van open, gelosten, hoog en laag laat zien wat de algemene trend van het jaar 2019 was"
   ]
  },
  {
   "cell_type": "code",
   "execution_count": null,
   "id": "e5251a60",
   "metadata": {},
   "outputs": [],
   "source": [
    "names = cycle(['Bitcoin open prijs','Bitcoin gesloten prijs','Bitcoin hoog prijs','Bitcoin laag prijs'])\n",
    "\n",
    "fig = px.line(jaar_2019, x=jaar_2019.Date, y=[jaar_2019['Open'], jaar_2019['Close'], \n",
    "                                          jaar_2019['High'], jaar_2019['Low']],\n",
    "             labels={'Date': 'Datum','value':'Waarde Bitcoin'})\n",
    "fig.update_layout(title_text='Grafiek Bitcoin analyse', font_size=15, font_color='black',legend_title_text='Bitcoin Parameters:')\n",
    "fig.for_each_trace(lambda t:  t.update(name = next(names)))\n",
    "fig.update_xaxes(showgrid=False)\n",
    "fig.update_yaxes(showgrid=False)\n",
    "\n",
    "fig.show()"
   ]
  },
  {
   "cell_type": "markdown",
   "id": "56161ff1",
   "metadata": {},
   "source": [
    "# 2.7 Analyse jaar: 2020"
   ]
  },
  {
   "cell_type": "markdown",
   "id": "254eab88",
   "metadata": {},
   "source": [
    "Ik maak een variabele aan met de naam: jaar_2020 die alleen de gegevens van jaar_2020 zal bevatten. De kolommen 'Adj Close' en 'Volume' laat ik weg"
   ]
  },
  {
   "cell_type": "code",
   "execution_count": null,
   "id": "2cab2c80",
   "metadata": {},
   "outputs": [],
   "source": [
    "jaar_2020 = maindf.loc[(maindf['Date'] >= '2020')\n",
    "                     & (maindf['Date'] < '2021')]\n",
    "\n",
    "jaar_2020.drop(jaar_2020[['Adj Close','Volume']],axis=1)"
   ]
  },
  {
   "cell_type": "markdown",
   "id": "3c0a5596",
   "metadata": {},
   "source": [
    "De gemiddelde waarde per maand weergeven. "
   ]
  },
  {
   "cell_type": "code",
   "execution_count": null,
   "id": "bf1833a5",
   "metadata": {},
   "outputs": [],
   "source": [
    "gemiddelde= jaar_2020.groupby(jaar_2020['Date'].dt.strftime('%B'))[['Open','Close']].mean()\n",
    "maanden = ['January', 'February', 'March', 'April', 'May', 'June', 'July', 'August', \n",
    "             'September', 'October', 'November', 'December']\n",
    "gemiddelde = gemiddelde.reindex(maanden, axis=0)\n",
    "gemiddelde"
   ]
  },
  {
   "cell_type": "markdown",
   "id": "f43a9ebb",
   "metadata": {},
   "source": [
    "Een barchart die laat zien wat de opening prijs en de gesloten prijs is van het gemiddelde van elke maand. Geel: open, Groen: gesloten"
   ]
  },
  {
   "cell_type": "code",
   "execution_count": null,
   "id": "13ec74ac",
   "metadata": {},
   "outputs": [],
   "source": [
    "fig = go.Figure()\n",
    "\n",
    "fig.add_trace(go.Bar(\n",
    "    x=gemiddelde.index,\n",
    "    y=gemiddelde['Open'],\n",
    "    name='Bitcoin ppen prijs',\n",
    "    marker_color='Yellow'\n",
    "))\n",
    "fig.add_trace(go.Bar(\n",
    "    x=gemiddelde.index,\n",
    "    y=gemiddelde['Close'],\n",
    "    name='Bitcoin gesloten prijs',\n",
    "    marker_color='Green'\n",
    "))\n",
    "\n",
    "fig.update_layout(barmode='group', xaxis_tickangle=-45, \n",
    "                  title='Maandelijkse vergelijking tussen open en gesloten prijzen')\n",
    "fig.show()"
   ]
  },
  {
   "cell_type": "markdown",
   "id": "2238a4c7",
   "metadata": {},
   "source": [
    "Een barchart die laat zien wat de hoge prijs en de lage prijs is van het gemiddelde van elke maand"
   ]
  },
  {
   "cell_type": "code",
   "execution_count": null,
   "id": "9162862e",
   "metadata": {},
   "outputs": [],
   "source": [
    "jaar_2020.groupby(jaar_2020['Date'].dt.strftime('%B'))['Low'].min()\n",
    "gemiddelde_high = jaar_2020.groupby(maindf['Date'].dt.strftime('%B'))['High'].max()\n",
    "gemiddelde_high = gemiddelde_high.reindex(maanden, axis=0)\n",
    "\n",
    "gemiddelde_low = jaar_2020.groupby(jaar_2020['Date'].dt.strftime('%B'))['Low'].min()\n",
    "gemiddelde_low = gemiddelde_low.reindex(maanden, axis=0)\n",
    "\n",
    "fig = go.Figure()\n",
    "fig.add_trace(go.Bar(\n",
    "    x=gemiddelde_high.index,\n",
    "    y=gemiddelde_high,\n",
    "    name='Bitcoin hoog prijs',\n",
    "    marker_color='Blue'\n",
    "))\n",
    "fig.add_trace(go.Bar(\n",
    "    x=gemiddelde_low.index,\n",
    "    y=gemiddelde_low,\n",
    "    name='Bitcoin laag prijs',\n",
    "    marker_color='Red'\n",
    "))\n",
    "\n",
    "fig.update_layout(barmode='group', \n",
    "                  title='Maandelijkse vergelijking tussen Hoge en Lage prijzen')\n",
    "fig.show()"
   ]
  },
  {
   "cell_type": "markdown",
   "id": "a3d145da",
   "metadata": {},
   "source": [
    "Een boxplot die de maandelijkse gesloten prijs laat zien van het jaar 2020."
   ]
  },
  {
   "cell_type": "code",
   "execution_count": null,
   "id": "f6beb112",
   "metadata": {},
   "outputs": [],
   "source": [
    "fig = px.box(jaar_2020,\n",
    "             x=\"Maand\",\n",
    "             y=\"Close\",\n",
    "             labels = {\"Close\" : \"Gesloten prijs\"}, \n",
    "             title=\"Maandelijkse vergelijking gesloten prijs\")\n",
    "fig.update_xaxes(showgrid=False)\n",
    "fig.update_yaxes(showgrid=False)\n",
    "fig.show()"
   ]
  },
  {
   "cell_type": "markdown",
   "id": "37515a21",
   "metadata": {},
   "source": [
    "Een boxplot die de gesloten prijs voor elke dag van elke maand laat zien van het jaar 2020.\n",
    "Dus van alle 30 of 31 dagen de gesloten prijs"
   ]
  },
  {
   "cell_type": "code",
   "execution_count": null,
   "id": "c043376c",
   "metadata": {},
   "outputs": [],
   "source": [
    "fig = px.box(jaar_2020,\n",
    "             x=\"Dag\",\n",
    "             y=\"Close\",\n",
    "             labels = {\"Close\" : \"Gesloten prijs\"}, \n",
    "             title=\"Gesloten prijs voor elke dag van 12 maanden\")\n",
    "fig.update_xaxes(showgrid=False)\n",
    "fig.update_yaxes(showgrid=False)\n",
    "fig.show()"
   ]
  },
  {
   "cell_type": "markdown",
   "id": "fd904ac4",
   "metadata": {},
   "source": [
    "Een strip plot die de gesloten prijs voor elke dag van van elke maand laat zien van het jaar 2020."
   ]
  },
  {
   "cell_type": "code",
   "execution_count": null,
   "id": "e0687641",
   "metadata": {},
   "outputs": [],
   "source": [
    "fig = px.strip(jaar_2020,\n",
    "               x=\"Dag\",\n",
    "               y=\"Close\",\n",
    "               labels = {\"Close\" : \"Gesloten prijs\"},\n",
    "               title = \"Gesloten prijs voor elke dag van 12 maanden\")\n",
    "fig.update_xaxes(showgrid=False)\n",
    "fig.update_yaxes(showgrid=False)\n",
    "fig.show()"
   ]
  },
  {
   "cell_type": "markdown",
   "id": "a2e658fd",
   "metadata": {},
   "source": [
    "Een strip plot die de gesloten prijs voor elke dag van van elke maand laat zien van het jaar 2020. Als extra functie kan je maanden apart bekijken en vergelijken.\n"
   ]
  },
  {
   "cell_type": "code",
   "execution_count": null,
   "id": "988f989f",
   "metadata": {},
   "outputs": [],
   "source": [
    "fig = px.strip(jaar_2020,\n",
    "               x=\"Dag\",\n",
    "               y=\"Close\",\n",
    "               labels = {\"Close\" : \"Gesloten prijs\"},\n",
    "               color=\"Maand\",\n",
    "               title = \"Gesloten prijs voor elke dag van 12 maanden\"\n",
    "              )\n",
    "fig.update_xaxes(showgrid=False)\n",
    "fig.update_yaxes(showgrid=False)\n",
    "fig.show()"
   ]
  },
  {
   "cell_type": "markdown",
   "id": "33a9e052",
   "metadata": {},
   "source": [
    "Een line chart die een samenvatting van open, gelosten, hoog en laag laat zien wat de algemene trend van het jaar 2020 was"
   ]
  },
  {
   "cell_type": "code",
   "execution_count": null,
   "id": "ea8987c2",
   "metadata": {},
   "outputs": [],
   "source": [
    "names = cycle(['Bitcoin open prijs','Bitcoin gesloten prijs','Bitcoin hoog prijs','Bitcoin laag prijs'])\n",
    "\n",
    "fig = px.line(jaar_2020, x=jaar_2020.Date, y=[jaar_2020['Open'], jaar_2020['Close'], \n",
    "                                          jaar_2020['High'], jaar_2020['Low']],\n",
    "             labels={'Date': 'Datum','value':'Bitcoin aandeel'})\n",
    "fig.update_layout(title_text='Grafiek Bitcoin analyse', font_size=15, font_color='black',legend_title_text='Bitcoin Parameters:')\n",
    "fig.for_each_trace(lambda t:  t.update(name = next(names)))\n",
    "fig.update_xaxes(showgrid=False)\n",
    "fig.update_yaxes(showgrid=False)\n",
    "\n",
    "fig.show()"
   ]
  },
  {
   "cell_type": "markdown",
   "id": "d8a3f645",
   "metadata": {},
   "source": [
    "# 2.8 Analyse jaar: 2021"
   ]
  },
  {
   "cell_type": "markdown",
   "id": "bd120408",
   "metadata": {},
   "source": [
    "Ik maak een variabele aan met de naam: jaar_2021 die alleen de gegevens van jaar_2021 zal bevatten. De kolommen 'Adj Close' en 'Volume' laat ik weg"
   ]
  },
  {
   "cell_type": "code",
   "execution_count": null,
   "id": "249f15d9",
   "metadata": {},
   "outputs": [],
   "source": [
    "jaar_2021 = maindf.loc[(maindf['Date'] >= '2021')\n",
    "                     & (maindf['Date'] < '2022')]\n",
    "\n",
    "jaar_2021.drop(jaar_2021[['Adj Close','Volume']],axis=1)"
   ]
  },
  {
   "cell_type": "markdown",
   "id": "f7a1a705",
   "metadata": {},
   "source": [
    "De gemiddelde waarde per maand weergeven. "
   ]
  },
  {
   "cell_type": "code",
   "execution_count": null,
   "id": "e4cf1382",
   "metadata": {},
   "outputs": [],
   "source": [
    "gemiddelde= jaar_2021.groupby(jaar_2021['Date'].dt.strftime('%B'))[['Open','Close']].mean()\n",
    "maanden = ['January', 'February', 'March', 'April', 'May', 'June', 'July', 'August', \n",
    "             'September', 'October', 'November', 'December']\n",
    "gemiddelde = gemiddelde.reindex(maanden, axis=0)\n",
    "gemiddelde"
   ]
  },
  {
   "cell_type": "markdown",
   "id": "3e95e7d2",
   "metadata": {},
   "source": [
    "Een barchart die laat zien wat de opening prijs en de gesloten prijs is van het gemiddelde van elke maand. Geel: open, Groen: gesloten"
   ]
  },
  {
   "cell_type": "code",
   "execution_count": null,
   "id": "5b41b659",
   "metadata": {},
   "outputs": [],
   "source": [
    "fig = go.Figure()\n",
    "\n",
    "fig.add_trace(go.Bar(\n",
    "    x=gemiddelde.index,\n",
    "    y=gemiddelde['Open'],\n",
    "    name='Bitcoin open prijs',\n",
    "    marker_color='Yellow'\n",
    "))\n",
    "fig.add_trace(go.Bar(\n",
    "    x=gemiddelde.index,\n",
    "    y=gemiddelde['Close'],\n",
    "    name='Bitcoin gesloten prijs',\n",
    "    marker_color='Green'\n",
    "))\n",
    "\n",
    "fig.update_layout(barmode='group', xaxis_tickangle=-45, \n",
    "                  title='Maandelijkse vergelijking tussen open en gesloten prijzen')\n",
    "fig.show()"
   ]
  },
  {
   "cell_type": "markdown",
   "id": "031ee0dc",
   "metadata": {},
   "source": [
    "Een barchart die laat zien wat de hoge prijs en de lage prijs is van het gemiddelde van elke maand"
   ]
  },
  {
   "cell_type": "code",
   "execution_count": null,
   "id": "e0a3b36b",
   "metadata": {},
   "outputs": [],
   "source": [
    "jaar_2021.groupby(jaar_2021['Date'].dt.strftime('%B'))['Low'].min()\n",
    "gemiddelde_high = jaar_2021.groupby(maindf['Date'].dt.strftime('%B'))['High'].max()\n",
    "gemiddelde_high = gemiddelde_high.reindex(maanden, axis=0)\n",
    "\n",
    "gemiddelde_low = jaar_2021.groupby(jaar_2021['Date'].dt.strftime('%B'))['Low'].min()\n",
    "gemiddelde_low = gemiddelde_low.reindex(maanden, axis=0)\n",
    "\n",
    "fig = go.Figure()\n",
    "fig.add_trace(go.Bar(\n",
    "    x=gemiddelde_high.index,\n",
    "    y=gemiddelde_high,\n",
    "    name='Bitcoin hoog prijs',\n",
    "    marker_color='Blue'\n",
    "))\n",
    "fig.add_trace(go.Bar(\n",
    "    x=gemiddelde_low.index,\n",
    "    y=gemiddelde_low,\n",
    "    name='Bitcoin laag prijs',\n",
    "    marker_color='Red'\n",
    "))\n",
    "\n",
    "fig.update_layout(barmode='group', \n",
    "                  title='Maandelijkse vergelijking tussen Hoge en Lage prijzen')\n",
    "fig.show()"
   ]
  },
  {
   "cell_type": "markdown",
   "id": "b2af103f",
   "metadata": {},
   "source": [
    "Een boxplot die de maandelijkse gesloten prijs laat zien van het jaar 2021."
   ]
  },
  {
   "cell_type": "code",
   "execution_count": null,
   "id": "f1c91dfe",
   "metadata": {},
   "outputs": [],
   "source": [
    "fig = px.box(jaar_2021,\n",
    "             x=\"Maand\",\n",
    "             y=\"Close\",\n",
    "             labels = {\"Close\" : \"Gesloten prijs\"}, \n",
    "             title=\"Maandelijkse vergelijking gesloten prijs\")\n",
    "fig.update_xaxes(showgrid=False)\n",
    "fig.update_yaxes(showgrid=False)\n",
    "fig.show()"
   ]
  },
  {
   "cell_type": "markdown",
   "id": "79871a7d",
   "metadata": {},
   "source": [
    "Een boxplot die de gesloten prijs voor elke dag van elke maand laat zien van het jaar 2021.\n",
    "Dus van alle 30 of 31 dagen de gesloten prijs"
   ]
  },
  {
   "cell_type": "code",
   "execution_count": null,
   "id": "b3e7f718",
   "metadata": {},
   "outputs": [],
   "source": [
    "fig = px.box(jaar_2021,\n",
    "             x=\"Dag\",\n",
    "             y=\"Close\",\n",
    "             labels = {\"Close\" : \"Gesloten prijs\"}, \n",
    "             title=\"Gesloten prijs voor elke dag van 12 maanden\")\n",
    "fig.update_xaxes(showgrid=False)\n",
    "fig.update_yaxes(showgrid=False)\n",
    "fig.show()\n"
   ]
  },
  {
   "cell_type": "markdown",
   "id": "b21df080",
   "metadata": {},
   "source": [
    "Een strip plot die de gesloten prijs voor elke dag van van elke maand laat zien van het jaar 2021."
   ]
  },
  {
   "cell_type": "code",
   "execution_count": null,
   "id": "29161787",
   "metadata": {},
   "outputs": [],
   "source": [
    "fig = px.strip(jaar_2021,\n",
    "               x=\"Dag\",\n",
    "               y=\"Close\",\n",
    "               labels = {\"Close\" : \"Gesloten prijs\"},\n",
    "               title = \"Gesloten prijs voor elke dag van 12 maanden\")\n",
    "fig.update_xaxes(showgrid=False)\n",
    "fig.update_yaxes(showgrid=False)\n",
    "fig.show()"
   ]
  },
  {
   "cell_type": "markdown",
   "id": "27f2b55c",
   "metadata": {},
   "source": [
    "Een strip plot die de gesloten prijs voor elke dag van van elke maand laat zien van het jaar 2021. Als extra functie kan je maanden apart bekijken en vergelijken.\n"
   ]
  },
  {
   "cell_type": "code",
   "execution_count": null,
   "id": "fe6cfd9a",
   "metadata": {},
   "outputs": [],
   "source": [
    "fig = px.strip(jaar_2021,\n",
    "               x=\"Dag\",\n",
    "               y=\"Close\",\n",
    "               labels = {\"Close\" : \"Gesloten prijs\"},\n",
    "               color=\"Maand\",\n",
    "               title = \"Gesloten prijs voor elke dag van 12 maanden\"\n",
    "              )\n",
    "fig.update_xaxes(showgrid=False)\n",
    "fig.update_yaxes(showgrid=False)\n",
    "fig.show()"
   ]
  },
  {
   "cell_type": "markdown",
   "id": "ac7aa369",
   "metadata": {},
   "source": [
    "Een line chart die een samenvatting van open, gelosten, hoog en laag laat zien wat de algemene trend van het jaar 2021 was"
   ]
  },
  {
   "cell_type": "code",
   "execution_count": null,
   "id": "288269bc",
   "metadata": {},
   "outputs": [],
   "source": [
    "names = cycle(['Aandeel Open Prijs','Aandeel Gesloten prijs','Aandeel Hoog Prijs','Aandeel Laag Prijs'])\n",
    "\n",
    "fig = px.line(jaar_2021, x=jaar_2021.Date, y=[jaar_2021['Open'], jaar_2021['Close'], \n",
    "                                          jaar_2021['High'], jaar_2021['Low']],\n",
    "             labels={'Date': 'Datum','value':'Bitcoin aandeel'})\n",
    "fig.update_layout(title_text='Grafiek Bitcoin analyse', font_size=15, font_color='black',legend_title_text='Bitcoin Parameters:')\n",
    "fig.for_each_trace(lambda t:  t.update(name = next(names)))\n",
    "fig.update_xaxes(showgrid=False)\n",
    "fig.update_yaxes(showgrid=False)\n",
    "\n",
    "fig.show()"
   ]
  },
  {
   "cell_type": "markdown",
   "id": "d7d10848",
   "metadata": {},
   "source": [
    "# 2.9 Analyse jaar: 2022 (niet compleet)"
   ]
  },
  {
   "cell_type": "markdown",
   "id": "f0da5436",
   "metadata": {},
   "source": [
    "Ik maak een variabele aan met de naam: jaar_2022 die alleen de gegevens van jaar_2022 zal bevatten. De kolommen 'Adj Close' en 'Volume' laat ik weg"
   ]
  },
  {
   "cell_type": "code",
   "execution_count": null,
   "id": "d0de23c6",
   "metadata": {},
   "outputs": [],
   "source": [
    "jaar_2022 = maindf.loc[(maindf['Date'] >= '2022')\n",
    "                     & (maindf['Date'] < '2023')]\n",
    "\n",
    "jaar_2022.drop(jaar_2022[['Adj Close','Volume']],axis=1)"
   ]
  },
  {
   "cell_type": "markdown",
   "id": "21ae4d0d",
   "metadata": {},
   "source": [
    "De gemiddelde waarde per maand weergeven. "
   ]
  },
  {
   "cell_type": "code",
   "execution_count": null,
   "id": "b2a4352b",
   "metadata": {},
   "outputs": [],
   "source": [
    "gemiddelde= jaar_2022.groupby(jaar_2022['Date'].dt.strftime('%B'))[['Open','Close']].mean()\n",
    "maanden = ['January', 'February', 'March', 'April', 'May', 'June', 'July', 'August', \n",
    "             'September', 'October', 'November', 'December']\n",
    "gemiddelde = gemiddelde.reindex(maanden, axis=0)\n",
    "gemiddelde"
   ]
  },
  {
   "cell_type": "markdown",
   "id": "63e802ed",
   "metadata": {},
   "source": [
    "Een barchart die laat zien wat de opening prijs en de gesloten prijs is van het gemiddelde van elke maand. Geel: open, Groen: gesloten"
   ]
  },
  {
   "cell_type": "code",
   "execution_count": null,
   "id": "a7a573ed",
   "metadata": {},
   "outputs": [],
   "source": [
    "fig = go.Figure()\n",
    "\n",
    "fig.add_trace(go.Bar(\n",
    "    x=gemiddelde.index,\n",
    "    y=gemiddelde['Open'],\n",
    "    name='Bitcoin open prijs',\n",
    "    marker_color='Yellow'\n",
    "))\n",
    "fig.add_trace(go.Bar(\n",
    "    x=gemiddelde.index,\n",
    "    y=gemiddelde['Close'],\n",
    "    name='Bitcoin gesloten prijs',\n",
    "    marker_color='Green'\n",
    "))\n",
    "\n",
    "fig.update_layout(barmode='group', xaxis_tickangle=-45, \n",
    "                  title='Maandelijkse vergelijking tussen open en gesloten prijzen')\n",
    "fig.show()"
   ]
  },
  {
   "cell_type": "markdown",
   "id": "c0ce40dd",
   "metadata": {},
   "source": [
    "Een barchart die laat zien wat de hoge prijs en de lage prijs is van het gemiddelde van elke maand"
   ]
  },
  {
   "cell_type": "code",
   "execution_count": null,
   "id": "a9cc6944",
   "metadata": {},
   "outputs": [],
   "source": [
    "jaar_2022.groupby(jaar_2022['Date'].dt.strftime('%B'))['Low'].min()\n",
    "gemiddelde_high = jaar_2022.groupby(maindf['Date'].dt.strftime('%B'))['High'].max()\n",
    "gemiddelde_high = gemiddelde_high.reindex(maanden, axis=0)\n",
    "\n",
    "gemiddelde_low = jaar_2022.groupby(jaar_2022['Date'].dt.strftime('%B'))['Low'].min()\n",
    "gemiddelde_low = gemiddelde_low.reindex(maanden, axis=0)\n",
    "\n",
    "fig = go.Figure()\n",
    "fig.add_trace(go.Bar(\n",
    "    x=gemiddelde_high.index,\n",
    "    y=gemiddelde_high,\n",
    "    name='Bitcoin hoog prijs',\n",
    "    marker_color='Blue'\n",
    "))\n",
    "fig.add_trace(go.Bar(\n",
    "    x=gemiddelde_low.index,\n",
    "    y=gemiddelde_low,\n",
    "    name='Bitcoin laag prijs',\n",
    "    marker_color='Red'\n",
    "))\n",
    "\n",
    "fig.update_layout(barmode='group', \n",
    "                  title='Maandelijkse vergelijking tussen Hoge en Lage prijzen')\n",
    "fig.show()"
   ]
  },
  {
   "cell_type": "markdown",
   "id": "ced8ee63",
   "metadata": {},
   "source": [
    "Een boxplot die de maandelijkse gesloten prijs laat zien van het jaar 2022."
   ]
  },
  {
   "cell_type": "code",
   "execution_count": null,
   "id": "1944003a",
   "metadata": {},
   "outputs": [],
   "source": [
    "fig = px.box(jaar_2022,\n",
    "             x=\"Maand\",\n",
    "             y=\"Close\",\n",
    "             labels = {\"Close\" : \"Gesloten prijs\"}, \n",
    "             title=\"Maandelijkse vergelijking gesloten prijs\")\n",
    "fig.update_xaxes(showgrid=False)\n",
    "fig.update_yaxes(showgrid=False)\n",
    "fig.show()"
   ]
  },
  {
   "cell_type": "markdown",
   "id": "b9942be6",
   "metadata": {},
   "source": [
    "Een boxplot die de gesloten prijs voor elke dag van elke maand laat zien van het jaar 2022.\n",
    "Dus van alle 30 of 31 dagen de gesloten prijs\n"
   ]
  },
  {
   "cell_type": "code",
   "execution_count": null,
   "id": "fe6aaf0b",
   "metadata": {},
   "outputs": [],
   "source": [
    "fig = px.box(jaar_2022,\n",
    "             x=\"Dag\",\n",
    "             y=\"Close\",\n",
    "             labels = {\"Close\" : \"Gesloten prijs\"}, \n",
    "             title=\"Gesloten prijs voor elke dag van 12 maanden\")\n",
    "fig.update_xaxes(showgrid=False)\n",
    "fig.update_yaxes(showgrid=False)\n",
    "fig.show()"
   ]
  },
  {
   "cell_type": "markdown",
   "id": "88e90122",
   "metadata": {},
   "source": [
    "Een strip plot die de gesloten prijs voor elke dag van van elke maand laat zien van het jaar 2022."
   ]
  },
  {
   "cell_type": "code",
   "execution_count": null,
   "id": "8b1ea613",
   "metadata": {},
   "outputs": [],
   "source": [
    "fig = px.strip(jaar_2015,\n",
    "               x=\"Dag\",\n",
    "               y=\"Close\",\n",
    "               labels = {\"Close\" : \"Gesloten prijs\"},\n",
    "               title = \"Gesloten prijs voor elke dag van 12 maanden\")\n",
    "fig.update_xaxes(showgrid=False)\n",
    "fig.update_yaxes(showgrid=False)\n",
    "fig.show()"
   ]
  },
  {
   "cell_type": "markdown",
   "id": "dd743986",
   "metadata": {},
   "source": [
    "Een strip plot die de gesloten prijs voor elke dag van van elke maand laat zien van het jaar 2022. Als extra functie kan je maanden apart bekijken en vergelijken."
   ]
  },
  {
   "cell_type": "code",
   "execution_count": null,
   "id": "58c5a7bd",
   "metadata": {},
   "outputs": [],
   "source": [
    "fig = px.strip(jaar_2022,\n",
    "               x=\"Dag\",\n",
    "               y=\"Close\",\n",
    "               labels = {\"Close\" : \"Gesloten prijs\"},\n",
    "               color=\"Maand\",\n",
    "               title = \"Gesloten prijs voor elke dag van 12 maanden\"\n",
    "              )\n",
    "fig.update_xaxes(showgrid=False)\n",
    "fig.update_yaxes(showgrid=False)\n",
    "fig.show()\n"
   ]
  },
  {
   "cell_type": "markdown",
   "id": "41a14b09",
   "metadata": {},
   "source": [
    "Een line chart die een samenvatting van open, gelosten, hoog en laag laat zien wat de algemene trend van het jaar 2022 was"
   ]
  },
  {
   "cell_type": "code",
   "execution_count": null,
   "id": "78063e25",
   "metadata": {},
   "outputs": [],
   "source": [
    "names = cycle(['Bitcoin open prijs','Bitcoin gesloten prijs','Bitcoin hoog prijs','Bitcoin laag prijs'])\n",
    "\n",
    "fig = px.line(jaar_2022, x=jaar_2022.Date, y=[jaar_2022['Open'], jaar_2022['Close'], \n",
    "                                          jaar_2022['High'], jaar_2022['Low']],\n",
    "             labels={'Date': 'Datum','value':'Waarde Bitcoin'})\n",
    "fig.update_layout(title_text='Grafiek Bitcoin analyse', font_size=15, font_color='black',legend_title_text='Bitcoin Parameters:')\n",
    "fig.for_each_trace(lambda t:  t.update(name = next(names)))\n",
    "fig.update_xaxes(showgrid=False)\n",
    "fig.update_yaxes(showgrid=False)\n",
    "\n",
    "fig.show()"
   ]
  },
  {
   "cell_type": "markdown",
   "id": "db436a42",
   "metadata": {},
   "source": [
    "# 2.10 Totaalanalyse van 2014-2022"
   ]
  },
  {
   "cell_type": "markdown",
   "id": "c22f243b",
   "metadata": {},
   "source": [
    "Ik maak een variabele aan met de naam: totaalanalyse die alleen de gegevens tussen 2014-2022 laat zien. De kolommen 'Adj Close' en 'Volume' laat ik weg"
   ]
  },
  {
   "cell_type": "code",
   "execution_count": null,
   "id": "fe9783bc",
   "metadata": {},
   "outputs": [],
   "source": [
    "totaalanalyse = maindf.loc[(maindf['Date'] >= '2014')\n",
    "                     & (maindf['Date'] <= '2023')]\n",
    "\n",
    "totaalanalyse.drop(totaalanalyse[['Adj Close','Volume']],axis=1)"
   ]
  },
  {
   "cell_type": "markdown",
   "id": "9b25c27b",
   "metadata": {},
   "source": [
    "De gemiddelde waarde per maand weergeven. "
   ]
  },
  {
   "cell_type": "code",
   "execution_count": null,
   "id": "4dff04bd",
   "metadata": {},
   "outputs": [],
   "source": [
    "gemiddelde= totaalanalyse.groupby(totaalanalyse['Date'].dt.strftime('%B'))[['Open','Close']].mean()\n",
    "maanden = ['January', 'February', 'March', 'April', 'May', 'June', 'July', 'August', \n",
    "             'September', 'October', 'November', 'December']\n",
    "gemiddelde = gemiddelde.reindex(maanden, axis=0)\n",
    "gemiddelde"
   ]
  },
  {
   "cell_type": "markdown",
   "id": "57f948e4",
   "metadata": {},
   "source": [
    "Een line chart die een samenvatting van open, gelosten, hoog en laag laat zien wat de algemene trend van jaar 2014 t/m 2022"
   ]
  },
  {
   "cell_type": "code",
   "execution_count": null,
   "id": "b877e153",
   "metadata": {},
   "outputs": [],
   "source": [
    "names = cycle(['Aandeel Open Prijs','Aandeel Gesloten Prijs','Aandeel Hoog Prijs','Aandeel Laag Prijs'])\n",
    "\n",
    "fig = px.line(totaalanalyse, x=totaalanalyse.Date, y=[totaalanalyse['Open'], totaalanalyse['Close'], \n",
    "                                          totaalanalyse['High'], totaalanalyse['Low']],\n",
    "             labels={'Date': 'Datum','value':'Aandeel rpijs'})\n",
    "fig.update_layout(title_text='Grafiek voor aandelen', font_size=15, font_color='black',legend_title_text='Aandeel Parameters:')\n",
    "fig.for_each_trace(lambda t:  t.update(name = next(names)))\n",
    "fig.update_xaxes(showgrid=False)\n",
    "fig.update_yaxes(showgrid=False)\n",
    "\n",
    "fig.show()"
   ]
  },
  {
   "cell_type": "markdown",
   "id": "1b59414e",
   "metadata": {},
   "source": [
    "### LSTM model"
   ]
  },
  {
   "cell_type": "markdown",
   "id": "ae6ea6a8",
   "metadata": {},
   "source": [
    "LSTM uitleg= LSTM is in staat voor long short time memory. LSTM heeft feedbackverbindingen en is in staat om de volledige reeks gegevens te verwerken, met uitzondering van enkele gegevenspunten zoals afbeeldingen.\n",
    "\n",
    "Vanwege de mogelijkheid om informatie uit het verleden op te slaan is LSTM erg handig bij het voorspellen van aandelenkoersen. Dit komt doordat de voorspelling van een toekomstige aandelenkoers afhankelijk is van de eerdere koersen."
   ]
  },
  {
   "cell_type": "markdown",
   "id": "393fd49c",
   "metadata": {},
   "source": [
    "De eerste stap is het voorbereiden van gegevens voor training en testen. \n",
    "Voor training data gebruik ik ongeveer 2,5 jaar aan data. Aangezien de Bitcoin prijs drastisch is gedaald van 200 dollar in 2014 tot 15000 dollar in 2018 en 3000 dollar in 2019 (deze waarden zijn ongeveer gelijk), beschouw ik slechts iets meer dan 2 jaar om dit soort schommelingen in de gegevens te voorkomen. Omdat ik de gesloten prijs van de Bitcoin wil voorspellen, kijk ik alleen naar de gegevens van \"Gesloten\" "
   ]
  },
  {
   "cell_type": "code",
   "execution_count": null,
   "id": "5fee7eea",
   "metadata": {},
   "outputs": [],
   "source": [
    "# Hier zie je een variable. Ik begin eerst met de gesloten prijs \n",
    "geslotendf = maindf[['Date','Close']]\n",
    "print(\"Vorm van gesloten dataframe:\", geslotendf.shape)"
   ]
  },
  {
   "cell_type": "code",
   "execution_count": null,
   "id": "4453c87f",
   "metadata": {},
   "outputs": [],
   "source": [
    "# Ik maak met pyplot een line chart om de gesloten prijs te zien tussen 2014-2022\n",
    "fig = px.line(geslotendf, x=geslotendf.Date, y=geslotendf.Close,labels={'Date':'Jaar','Close':'Gesloten'})\n",
    "fig.update_traces(marker_line_width=2, opacity=0.8, marker_line_color='orange')\n",
    "fig.update_layout(title_text='Gehele periode van de Bitcoin gesloten prijs 2014-2022', plot_bgcolor='white', \n",
    "                  font_size=15, font_color='black')\n",
    "fig.update_xaxes(showgrid=False)\n",
    "fig.update_yaxes(showgrid=False)\n",
    "fig.show()"
   ]
  },
  {
   "cell_type": "code",
   "execution_count": null,
   "id": "6a1a0890",
   "metadata": {},
   "outputs": [],
   "source": [
    "# om een nauwkeurige analyse te maken gebruik ik data van ongeveer 2.5 jaar. Omdat 2014-2020 niet in de trend zit. Zie figuur hierboven\n",
    "# alle datums boven 19-02-2021 tellen mee\n",
    "geslotendf = geslotendf[geslotendf['Date'] > '2020-05-01']\n",
    "gesloten_aandeel = geslotendf.copy()\n",
    "print(\"Totale gegevens voor voorspelling: \",geslotendf.shape[0])"
   ]
  },
  {
   "cell_type": "code",
   "execution_count": null,
   "id": "c719e102",
   "metadata": {},
   "outputs": [],
   "source": [
    "# start datum en einddatum (dubbele check)\n",
    "geslotendf"
   ]
  },
  {
   "cell_type": "code",
   "execution_count": null,
   "id": "1db6dea0",
   "metadata": {},
   "outputs": [],
   "source": [
    "# gesloten prijs van 04-05-2021 t/m 23-11-2022\n",
    "fig = px.line(geslotendf, x=geslotendf.Date, y=geslotendf.Close,labels={'Date':'Datum','Close':'Gesloten'})\n",
    "fig.update_traces(marker_line_width=2, opacity=0.8, marker_line_color='orange')\n",
    "fig.update_layout(title_text='Voorspelde periode om Bitcoin Gesloten koers te voorspellen', \n",
    "                  plot_bgcolor='white', font_size=15, font_color='black')\n",
    "fig.update_xaxes(showgrid=False)\n",
    "fig.update_yaxes(showgrid=False)\n",
    "fig.show()"
   ]
  },
  {
   "cell_type": "markdown",
   "id": "80402d3c",
   "metadata": {},
   "source": [
    "## Normaliseren van data "
   ]
  },
  {
   "cell_type": "markdown",
   "id": "0a520864",
   "metadata": {},
   "source": [
    "Normalisatie is een techniek die vaak wordt toegepast als onderdeel van de voorbereiding van gegevens voor machine learning. \n",
    "Het doel van normalisatie is om de waarden van numerieke kolommen in de dataset te wijzigen om een gemeenschappelijke schaal te gebruiken, zonder de verschillen in het waardenbereik te verstoren of informatie te verliezen.\n",
    "\n",
    "MinMaxScaler\n",
    "\n",
    "Voor elke waarde in een kenmerk trekt MinMaxScaler de minimumwaarde in het kenmerk af en deelt dan door het bereik. Het bereik is het verschil tussen het oorspronkelijke maximum en het oorspronkelijke minimum. MinMaxScaler behoudt de vorm van de oorspronkelijke verdeling.\n",
    "\n",
    "Het doel van normalisatie is om de waarden van numerieke kolommen in de gegevensverzameling te wijzigen in een gemeenschappelijke schaal, zonder de verschillen in het waardenbereik te verstoren.\n",
    "Normalisatie zorgt ervoor dat de functies consistenter met elkaar zijn, waardoor het model de output nauwkeuriger kan voorspellen."
   ]
  },
  {
   "cell_type": "code",
   "execution_count": null,
   "id": "7be43864",
   "metadata": {},
   "outputs": [],
   "source": [
    "geslotendf"
   ]
  },
  {
   "cell_type": "code",
   "execution_count": null,
   "id": "d941ffd8",
   "metadata": {},
   "outputs": [],
   "source": [
    "# Hier verwijder ik de \"Date\" kolom omdat ik die niet nodig heb.\n",
    "# Ik maak een variabele scaler aan en normaliseer het met MinMax-scaler. \n",
    "\n",
    "del geslotendf['Date']\n",
    "scaler=MinMaxScaler(feature_range=(0,1))\n",
    "geslotendf=scaler.fit_transform(np.array(geslotendf).reshape(-1,1))\n",
    "print(geslotendf.shape)"
   ]
  },
  {
   "cell_type": "code",
   "execution_count": null,
   "id": "858eb3df",
   "metadata": {},
   "outputs": [],
   "source": [
    "# Hier zie je arrays. Zo ziet de genormaliseerde data eruit\n",
    "geslotendf"
   ]
  },
  {
   "cell_type": "markdown",
   "id": "06ed6636",
   "metadata": {},
   "source": [
    "### Nu ga ik een verdeling maken van gegevens in een trainingsset en een testset"
   ]
  },
  {
   "cell_type": "code",
   "execution_count": null,
   "id": "681078ef",
   "metadata": {},
   "outputs": [],
   "source": [
    "# Ik houd de trainingsset op 60% en de testset op 40%.\n",
    "training_size=int(len(geslotendf)*0.60)\n",
    "test_size=len(geslotendf)-training_size\n",
    "train_data,test_data=geslotendf[0:training_size,:],geslotendf[training_size:len(geslotendf),:1]\n",
    "print(\"train_data: \", train_data.shape)\n",
    "print(\"test_data: \", test_data.shape)"
   ]
  },
  {
   "cell_type": "markdown",
   "id": "4a7f85df",
   "metadata": {},
   "source": [
    "### In deze stap transformeer ik de gesloten koers op basis van de voorspellingsvereisten van de Time-series-analysis. Hier neem ik de timestamp als 15"
   ]
  },
  {
   "cell_type": "code",
   "execution_count": null,
   "id": "b17451e8",
   "metadata": {},
   "outputs": [],
   "source": [
    "# Ik zal de array van waarden in de datamatrix omzetten. Ik maak daarvoor een function die dataset maakt \n",
    "# en geef ik de dataset de timestamp door. \n",
    "# Hier doe ik een array van waarden omzetten in een dataset matrix \n",
    "def create_dataset(dataset, time_step=1):\n",
    "    # empty list\n",
    "    dataX, dataY = [], []\n",
    "    for i in range(len(dataset)-time_step-1):\n",
    "        a = dataset[i:(i+time_step), 0]   ###i=0, 0,1,2,3-----99   100 \n",
    "        dataX.append(a)\n",
    "        dataY.append(dataset[i + time_step, 0])\n",
    "    return np.array(dataX), np.array(dataY)"
   ]
  },
  {
   "cell_type": "code",
   "execution_count": null,
   "id": "2032b359",
   "metadata": {},
   "outputs": [],
   "source": [
    "# Timestamp instellen en initiëren. \n",
    "# Dataset aanmaken\n",
    "time_step = 15\n",
    "X_train, y_train = create_dataset(train_data, time_step)\n",
    "X_test, y_test = create_dataset(test_data, time_step)\n",
    "\n",
    "print(\"X_train: \", X_train.shape)\n",
    "print(\"y_train: \", y_train.shape)\n",
    "print(\"X_test: \", X_test.shape)\n",
    "print(\"y_test\", y_test.shape)"
   ]
  },
  {
   "cell_type": "code",
   "execution_count": null,
   "id": "85b650cc",
   "metadata": {},
   "outputs": [],
   "source": [
    "# Input omvormen tot [samples, time steps, features]  die nodig is voor LSTM. \n",
    "\n",
    "X_train =X_train.reshape(X_train.shape[0],X_train.shape[1] , 1)\n",
    "X_test = X_test.reshape(X_test.shape[0],X_test.shape[1] , 1)\n",
    "\n",
    "print(\"X_train: \", X_train.shape)\n",
    "print(\"X_test: \", X_test.shape)"
   ]
  },
  {
   "cell_type": "markdown",
   "id": "30df94cd",
   "metadata": {},
   "source": [
    "### Model bouwen"
   ]
  },
  {
   "cell_type": "code",
   "execution_count": null,
   "id": "35b687df",
   "metadata": {},
   "outputs": [],
   "source": [
    "# Ik maak een variable aan(model) en initaliseer het met sequential \n",
    "# Om mijn input in het algoritme te krijgen converteer ik de input naar een readable format, de input shape\n",
    "\n",
    "model=Sequential()\n",
    " \n",
    "# Dense Layer: simple layer of neurons in which each neuron receives the input from all the neurons of previous layer\n",
    "\n",
    "\n",
    "#Softmax: is a mathematical function that converts a vector of numbers into a vector of probabilities, \n",
    "#where the probabilities of each value are proportional to the relative scale of each value in the vector.\n",
    "model.add(LSTM(10,input_shape=(None,1),activation=\"softmax\")) \n",
    "\n",
    "model.add(Dense(1))\n",
    "\n",
    "#Adam is an optimization algorithm that can be used instead of the classical stochastic gradient descent procedure \n",
    "#to update network weights iterative based in training data.\n",
    "model.compile(loss=\"mean_squared_error\",optimizer=\"adam\")"
   ]
  },
  {
   "cell_type": "code",
   "execution_count": null,
   "id": "9ae81f86",
   "metadata": {},
   "outputs": [],
   "source": [
    "# Ik maak een variable genaamd history en die slaat de history van het model op.\n",
    "# Validation data = testing data\n",
    "# epochs =200 , batch_size=32 en verbose=1(loss and val_loss). \n",
    "history = model.fit(X_train,y_train,validation_data=(X_test,y_test),epochs=200,batch_size=32,verbose=1)"
   ]
  },
  {
   "cell_type": "markdown",
   "id": "e235a8fd",
   "metadata": {},
   "source": [
    "### Plotting loss vs Validation loss"
   ]
  },
  {
   "cell_type": "code",
   "execution_count": null,
   "id": "ac8b3f11",
   "metadata": {},
   "outputs": [],
   "source": [
    "# Hier plot ik trainingverlies en validatieverlies \n",
    "loss = history.history['loss']\n",
    "val_loss = history.history['val_loss']\n",
    "\n",
    "epochs = range(len(loss))\n",
    "\n",
    "plt.plot(epochs, loss, 'r', label='Trainingsverlies')\n",
    "plt.plot(epochs, val_loss, 'b', label='Validatieverlies')\n",
    "plt.title('Training en validatieverlies')\n",
    "plt.legend(loc=0)\n",
    "plt.figure()\n",
    "\n",
    "plt.show()"
   ]
  },
  {
   "cell_type": "code",
   "execution_count": null,
   "id": "4992b2c6",
   "metadata": {},
   "outputs": [],
   "source": [
    "# Laten we de voorspelling doen en de prestatiecijfers controleren\n",
    "\n",
    "train_predict=model.predict(X_train)\n",
    "test_predict=model.predict(X_test)\n",
    "train_predict.shape, test_predict.shape"
   ]
  },
  {
   "cell_type": "markdown",
   "id": "c5a9763e",
   "metadata": {},
   "source": [
    "### Model evaluatie"
   ]
  },
  {
   "cell_type": "code",
   "execution_count": null,
   "id": "4144a653",
   "metadata": {},
   "outputs": [],
   "source": [
    "# Data terugzetten naar originele vorm voor de evaluatie \n",
    "\n",
    "train_predict = scaler.inverse_transform(train_predict)\n",
    "test_predict = scaler.inverse_transform(test_predict)\n",
    "original_ytrain = scaler.inverse_transform(y_train.reshape(-1,1)) \n",
    "original_ytest = scaler.inverse_transform(y_test.reshape(-1,1)) "
   ]
  },
  {
   "cell_type": "markdown",
   "id": "f60f9dec",
   "metadata": {},
   "source": [
    "### Evaluatiecijfers RMSE, MSE en MAE"
   ]
  },
  {
   "cell_type": "markdown",
   "id": "a2408cc0",
   "metadata": {},
   "source": [
    "RMSE uitleg= Bij machine learning is het uiterst nuttig om één cijfer te hebben om de prestaties van een model te beoordelen, of het nu gaat om training of testing. Root mean square error is een van de meest gebruikte maatstaven hiervoor.\n",
    "\n",
    "MAE uitleg= MAE evalueert de absolute afstand van de waarnemingen (de ingangen van de dataset) tot de voorspellingen op een regressie, waarbij het gemiddelde over alle waarnemingen wordt genomen.\n",
    "\n",
    "Variance Regression Score uitleg= Is een module. De best mogelijke score is 1,0\n",
    "\n",
    "R-squared= R-squared geeft je een schatting van de relatie tussen bewegingen van een afhankelijke variabele op basis van de bewegingen van een onafhankelijke variabele. Het vertelt je niet of het door jou gekozen model goed of slecht is, en het vertelt je ook niet of de gegevens en voorspellingen bevooroordeeld zijn\n"
   ]
  },
  {
   "cell_type": "code",
   "execution_count": null,
   "id": "051fd750",
   "metadata": {},
   "outputs": [],
   "source": [
    "# Evaluatiecijfers RMSE(root-mean-square error) en MAE(Mean absolute error) voor training en testing\n",
    "\n",
    "print(\"Train data RMSE: \", math.sqrt(mean_squared_error(original_ytrain,train_predict)))\n",
    "print(\"Train data MSE: \", mean_squared_error(original_ytrain,train_predict))\n",
    "print(\"Train data MAE: \", mean_absolute_error(original_ytrain,train_predict))\n",
    "print(\"-------------------------------------------------------------------------------------\")\n",
    "print(\"Test data RMSE: \", math.sqrt(mean_squared_error(original_ytest,test_predict)))\n",
    "print(\"Test data MSE: \", mean_squared_error(original_ytest,test_predict))\n",
    "print(\"Test data MAE: \", mean_absolute_error(original_ytest,test_predict))"
   ]
  },
  {
   "cell_type": "markdown",
   "id": "97ce2441",
   "metadata": {},
   "source": [
    "### Variance Regression Score"
   ]
  },
  {
   "cell_type": "code",
   "execution_count": null,
   "id": "c8e8accb",
   "metadata": {},
   "outputs": [],
   "source": [
    "# Variance regression score voor training en testing\n",
    "print(\"Train data (variance regression score):\", \n",
    "      explained_variance_score(original_ytrain, train_predict))\n",
    "print(\"Test data (variance regression score):\", \n",
    "      explained_variance_score(original_ytest, test_predict))"
   ]
  },
  {
   "cell_type": "markdown",
   "id": "a4cfe84f",
   "metadata": {},
   "source": [
    "### R square score voor regressie"
   ]
  },
  {
   "cell_type": "code",
   "execution_count": null,
   "id": "c44c9a5c",
   "metadata": {},
   "outputs": [],
   "source": [
    "# R square score voor training en test\n",
    "print(\"Train data R2 score:\", r2_score(original_ytrain, train_predict))\n",
    "print(\"Test data R2 score:\", r2_score(original_ytest, test_predict))"
   ]
  },
  {
   "cell_type": "markdown",
   "id": "c7008142",
   "metadata": {},
   "source": [
    "## Vergelijking van originele Bitcoin gesloten koers en voorspelde gesloten koers "
   ]
  },
  {
   "cell_type": "code",
   "execution_count": null,
   "id": "e522f0ba",
   "metadata": {},
   "outputs": [],
   "source": [
    "# shift train voorspellingen voor plotten\n",
    "\n",
    "look_back=time_step\n",
    "trainPredictPlot = np.empty_like(geslotendf)\n",
    "trainPredictPlot[:, :] = np.nan\n",
    "trainPredictPlot[look_back:len(train_predict)+look_back, :] = train_predict\n",
    "print(\"Train voorspelde data: \", trainPredictPlot.shape)\n",
    "\n",
    "# shift test voorspellingen voor plotten\n",
    "testPredictPlot = np.empty_like(geslotendf)\n",
    "testPredictPlot[:, :] = np.nan\n",
    "testPredictPlot[len(train_predict)+(look_back*2)+1:len(geslotendf)-1, :] = test_predict\n",
    "print(\"Test voorspelde data: \", testPredictPlot.shape)\n",
    "\n",
    "names = cycle(['Orginele gesloten prijs','Train voorspelling gesloten prijs','Test voorspelling gesloten prijs'])\n",
    "\n",
    "\n",
    "plotdf = pd.DataFrame({'date': gesloten_aandeel['Date'],\n",
    "                       'original_close': gesloten_aandeel['Close'],\n",
    "                      'train_predicted_close': trainPredictPlot.reshape(1,-1)[0].tolist(),\n",
    "                      'test_predicted_close': testPredictPlot.reshape(1,-1)[0].tolist()})\n",
    "\n",
    "fig = px.line(plotdf,x=plotdf['date'], y=[plotdf['original_close'],plotdf['train_predicted_close'],\n",
    "                                          plotdf['test_predicted_close']],\n",
    "              labels={'value':'Aandeel prijs','date': 'Datum'})\n",
    "fig.update_layout(title_text='Vergelijking tussen oorspronkelijke gesloten koers vs. voorspelde gesloten koers',\n",
    "                  plot_bgcolor='white', font_size=15, font_color='black', legend_title_text='Prijzen:')\n",
    "fig.for_each_trace(lambda t:  t.update(name = next(names)))\n",
    "\n",
    "fig.update_xaxes(showgrid=False)\n",
    "fig.update_yaxes(showgrid=False)\n",
    "fig.show()"
   ]
  },
  {
   "cell_type": "markdown",
   "id": "fc838b69",
   "metadata": {},
   "source": [
    "# De komende 30 dagen voorspellen van Bitcoin"
   ]
  },
  {
   "cell_type": "code",
   "execution_count": null,
   "id": "9bc4dc5d",
   "metadata": {},
   "outputs": [],
   "source": [
    "# x_input van test_data en lengte\n",
    "\n",
    "x_input=test_data[len(test_data)-time_step:].reshape(1,-1)\n",
    "temp_input=list(x_input)\n",
    "temp_input=temp_input[0].tolist()\n",
    "\n",
    "from numpy import array\n",
    "# ik maak een array voor de timestamp\n",
    "lst_output=[]\n",
    "n_steps=time_step\n",
    "i=0\n",
    "# voorspelling van dagen wordt 30\n",
    "voorspelling_dagen = 30\n",
    "while(i<voorspelling_dagen):\n",
    "    \n",
    "    if(len(temp_input)>time_step):\n",
    "        \n",
    "        x_input=np.array(temp_input[1:])\n",
    "        #print(\"{} day input {}\".format(i,x_input))\n",
    "        x_input = x_input.reshape(1,-1)\n",
    "        x_input = x_input.reshape((1, n_steps, 1))\n",
    "        \n",
    "        #input is de sequence die ik heb gemaakt\n",
    "        yhat = model.predict(x_input, verbose=0)\n",
    "        #print(\"{} day output {}\".format(i,yhat))\n",
    "        temp_input.extend(yhat[0].tolist())\n",
    "        temp_input=temp_input[1:]\n",
    "        #print(temp_input)\n",
    "       \n",
    "        lst_output.extend(yhat.tolist())\n",
    "        i=i+1\n",
    "        \n",
    "    else:\n",
    "        \n",
    "        x_input = x_input.reshape((1, n_steps,1))\n",
    "        yhat = model.predict(x_input, verbose=0)\n",
    "        temp_input.extend(yhat[0].tolist())\n",
    "        \n",
    "        lst_output.extend(yhat.tolist())\n",
    "        i=i+1\n",
    "               \n",
    "print(\"Output van voorspelde volgende dagen: \", len(lst_output))"
   ]
  },
  {
   "cell_type": "markdown",
   "id": "89d94133",
   "metadata": {},
   "source": [
    "# Plotting van laatste 15 dagen van dataset en 30 dagen( voorspelling)"
   ]
  },
  {
   "cell_type": "code",
   "execution_count": null,
   "id": "b5253562",
   "metadata": {},
   "outputs": [],
   "source": [
    " #de eerste 15 dagen dagen 1 t/m 15\n",
    " #daarna de dagen 16 t/m 45 (30 dagen)\n",
    "laatste_dagen=np.arange(1,time_step+1)\n",
    "dagen_voorspelling=np.arange(time_step+1,time_step+voorspelling_dagen+1)\n",
    "print(laatste_dagen)\n",
    "print(dagen_voorspelling)\n",
    "print(\"-------------------------------------------------------------------------------------\")\n",
    "print (voorspelling_dagen)"
   ]
  },
  {
   "cell_type": "code",
   "execution_count": null,
   "id": "e2c1ad37",
   "metadata": {},
   "outputs": [],
   "source": [
    "temp_mat = np.empty((len(laatste_dagen)+voorspelling_dagen+1,1))\n",
    "temp_mat[:] = np.nan\n",
    "temp_mat = temp_mat.reshape(1,-1).tolist()[0]\n",
    "\n",
    "laatste_originele_dagen_waarde = temp_mat\n",
    "volgende_voorspelde_dagen_waarde = temp_mat\n",
    "\n",
    "laatste_originele_dagen_waarde[0:time_step+1] = scaler.inverse_transform(geslotendf[len(geslotendf)-time_step:]).reshape(1,-1).tolist()[0]\n",
    "volgende_voorspelde_dagen_waarde[time_step+1:] = scaler.inverse_transform(np.array(lst_output).reshape(-1,1)).reshape(1,-1).tolist()[0]\n",
    "\n",
    "new_pred_plot = pd.DataFrame({\n",
    "    'laatste_originele_dagen_waarde':laatste_originele_dagen_waarde,\n",
    "    'volgende_voorspelde_dagen_waarde':volgende_voorspelde_dagen_waarde\n",
    "})\n",
    "\n",
    "names = cycle(['laatste 15 dagen gesloten prijs','voorspelling volgende 30 dagen gesloten prijs'])\n",
    "\n",
    "fig = px.line(new_pred_plot,x=new_pred_plot.index, y=[new_pred_plot['laatste_originele_dagen_waarde'],\n",
    "                                                      new_pred_plot['volgende_voorspelde_dagen_waarde']],\n",
    "              labels={'value': 'Aandeel prijs','index': 'Timestamp'})\n",
    "fig.update_layout(title_text='Laatste 15 dagen vs voorspelling 30 dagen',\n",
    "                  plot_bgcolor='white', font_size=15, font_color='black',legend_title_text='Gesloten prijs')\n",
    "\n",
    "fig.for_each_trace(lambda t:  t.update(name = next(names)))\n",
    "fig.update_xaxes(showgrid=False)\n",
    "fig.update_yaxes(showgrid=False)\n",
    "fig.show()\n",
    "\n"
   ]
  },
  {
   "cell_type": "markdown",
   "id": "a16b6297",
   "metadata": {},
   "source": [
    "###  Het plotten van volledige gesloten aandeel prijs met volgende 30 dagen periode van voorspelling"
   ]
  },
  {
   "cell_type": "code",
   "execution_count": null,
   "id": "1b873aba",
   "metadata": {},
   "outputs": [],
   "source": [
    "# Dit is de hele voorspellingsgrafiek die eruit zou zien \n",
    "lstmdf=geslotendf.tolist()\n",
    "lstmdf.extend((np.array(lst_output).reshape(-1,1)).tolist())\n",
    "lstmdf=scaler.inverse_transform(lstmdf).reshape(1,-1).tolist()[0]\n",
    "\n",
    "names = cycle(['Gesloten prijs'])\n",
    "\n",
    "fig = px.line(lstmdf,labels={'value': 'Aandeel prijs','index': 'Timesstap'})\n",
    "fig.update_layout(title_text='Plotten van gehele gesloten koers met voorspelling',\n",
    "                  plot_bgcolor='white', font_size=15, font_color='black',legend_title_text='Bitcoin')\n",
    "\n",
    "fig.for_each_trace(lambda t:  t.update(name = next(names)))\n",
    "\n",
    "fig.update_xaxes(showgrid=False)\n",
    "fig.update_yaxes(showgrid=False)\n",
    "fig.show()"
   ]
  },
  {
   "cell_type": "markdown",
   "id": "c6ef8fcc",
   "metadata": {},
   "source": [
    "#### Bibliografie voor notebook:\n",
    "\n",
    "##### Visualisaties:\n",
    "Inspiratie voor visualisaties (ik heb ze bijna allemaal zelf gemaakt): https://www.cienciadedatos.net/documentos/py41-forecasting-cryptocurrency-bitcoin-machine-learning-python.html\n",
    "\n",
    "Visualisaties Plotly: https://www.mth548.org/Tools/Plotly/plotly_plot_types.html#Strip-plot\n",
    "\n",
    "\n",
    "##### Algoritme:\n",
    "LSTM model (1): https://rie.binadarma.ac.id/file/conference/a-lstm-method-for-bitcoin-price-prediction-a-case-study-yahoo-finance-stock-market-1639027986.pdf\n",
    "\n",
    "LSTM model (2): https://www.kaggle.com/code/mekhdigakhramanian/bitcoin-price-prediction-for-10-days-lstm-vs-gru\n",
    "\n",
    "LSTM model (3): https://www.analyticsvidhya.com/blog/2021/05/bitcoin-price-prediction-using-recurrent-neural-networks-and-lstm/\n",
    "\n"
   ]
  }
 ],
 "metadata": {
  "kernelspec": {
   "display_name": "Python 3",
   "language": "python",
   "name": "python3"
  },
  "language_info": {
   "codemirror_mode": {
    "name": "ipython",
    "version": 3
   },
   "file_extension": ".py",
   "mimetype": "text/x-python",
   "name": "python",
   "nbconvert_exporter": "python",
   "pygments_lexer": "ipython3",
   "version": "3.8.8"
  }
 },
 "nbformat": 4,
 "nbformat_minor": 5
}
